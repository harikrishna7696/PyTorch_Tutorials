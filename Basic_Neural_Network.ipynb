{
  "nbformat": 4,
  "nbformat_minor": 0,
  "metadata": {
    "colab": {
      "provenance": [],
      "gpuType": "T4"
    },
    "kernelspec": {
      "name": "python3",
      "display_name": "Python 3"
    },
    "language_info": {
      "name": "python"
    },
    "accelerator": "GPU"
  },
  "cells": [
    {
      "cell_type": "code",
      "execution_count": 1,
      "metadata": {
        "id": "LvZER_ZNw8Qn"
      },
      "outputs": [],
      "source": [
        "import torch\n",
        "import torch.nn as nn\n",
        "from torchvision import datasets, transforms\n",
        "from torch.utils.data import DataLoader"
      ]
    },
    {
      "cell_type": "code",
      "source": [
        "# Loading the train and test dataset from torchvision Mnist dataset\n",
        "train_data = datasets.MNIST(root='./data', train=True, transform=transforms.ToTensor(), download=True)\n",
        "test_data = datasets.MNIST(root='./data', train=False, transform=transforms.ToTensor(), download=True)"
      ],
      "metadata": {
        "id": "lXHre6gkxg0R"
      },
      "execution_count": 2,
      "outputs": []
    },
    {
      "cell_type": "code",
      "source": [
        "device = 'cuda' if torch.cuda.is_available() else 'cpu'\n",
        "input_size = 28 * 28\n",
        "num_epochs = 5\n",
        "learning_rate = 0.0001\n",
        "batch_size = 64\n",
        "num_classes = 10"
      ],
      "metadata": {
        "id": "-nXVmZdIyK_y"
      },
      "execution_count": 3,
      "outputs": []
    },
    {
      "cell_type": "code",
      "source": [
        "train_loader = DataLoader(shuffle=True, dataset=train_data, batch_size=batch_size)\n",
        "test_loader = DataLoader(shuffle=True, dataset=test_data, batch_size=batch_size)"
      ],
      "metadata": {
        "id": "Nx22otplyFd6"
      },
      "execution_count": 4,
      "outputs": []
    },
    {
      "cell_type": "code",
      "source": [
        "# Neural Network with hidden layers\n",
        "class NeuralNetwork(nn.Module):\n",
        "  def __init__(self, input_size, num_classes) -> None:\n",
        "    super().__init__()\n",
        "    self.layer1 = nn.Linear(input_size, 200)\n",
        "    self.layer2 = nn.ReLU()\n",
        "    self.layer3 = nn.Linear(200, num_classes)\n",
        "    self.input_size = input_size\n",
        "  def forward(self, imgs):\n",
        "    flatten_img = imgs.reshape(-1, self.input_size)\n",
        "    out = self.layer1(flatten_img)\n",
        "    out = self.layer2(out)\n",
        "    out = self.layer3(out)\n",
        "    return out"
      ],
      "metadata": {
        "id": "NgWyKx5Fy6cs"
      },
      "execution_count": 5,
      "outputs": []
    },
    {
      "cell_type": "code",
      "source": [
        "# loading the model and evaluation\n",
        "model = NeuralNetwork(input_size, num_classes)\n",
        "criterion = nn.CrossEntropyLoss()\n",
        "optimizer = torch.optim.Adam(model.parameters(), lr=learning_rate)\n",
        "for i in range(num_epochs):\n",
        "  for j, (t_images, t_labels) in enumerate(train_loader):\n",
        "    t_labels = t_labels.to(device)\n",
        "    output = model.forward(t_images)\n",
        "    output = output.to(device)\n",
        "    loss = criterion(output, t_labels)\n",
        "\n",
        "    optimizer.zero_grad()\n",
        "    loss.backward()\n",
        "    optimizer.step()\n",
        "\n",
        "  print(f\"epoch: {i}, loss: {loss}\")"
      ],
      "metadata": {
        "id": "a55datb3RHQ1"
      },
      "execution_count": null,
      "outputs": []
    },
    {
      "cell_type": "code",
      "source": [
        "total_lables = 0\n",
        "predicted_labels = 0\n",
        "with torch.no_grad():\n",
        "  for t_images, t_labels in test_loader:\n",
        "    output = model(t_images)\n",
        "    _, predictions = torch.max(output, 1)\n",
        "    total_lables += t_labels.size(0)\n",
        "    predicted_labels += (t_labels == predictions).sum()\n",
        "  print(f\"Model Accuracy: {(predicted_labels/total_lables)*100}%\")"
      ],
      "metadata": {
        "id": "dJ_nK12-SzGc"
      },
      "execution_count": null,
      "outputs": []
    },
    {
      "cell_type": "code",
      "source": [
        "# save the model\n",
        "torch.save(model.state_dict(), 'model.ckpt')"
      ],
      "metadata": {
        "id": "Bydpv901T_Gp"
      },
      "execution_count": null,
      "outputs": []
    }
  ]
}