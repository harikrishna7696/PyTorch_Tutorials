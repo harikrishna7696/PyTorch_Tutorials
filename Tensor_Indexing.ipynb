{
  "nbformat": 4,
  "nbformat_minor": 0,
  "metadata": {
    "colab": {
      "provenance": []
    },
    "kernelspec": {
      "name": "python3",
      "display_name": "Python 3"
    },
    "language_info": {
      "name": "python"
    }
  },
  "cells": [
    {
      "cell_type": "markdown",
      "source": [
        "# Tensor Indexing"
      ],
      "metadata": {
        "id": "zMGzkIlzxxKw"
      }
    },
    {
      "cell_type": "code",
      "source": [
        "import torch\n",
        "torch.__version__"
      ],
      "metadata": {
        "colab": {
          "base_uri": "https://localhost:8080/",
          "height": 36
        },
        "id": "8nD0lJvrnvq5",
        "outputId": "fc955616-499f-4047-d9a6-3bfce707e78f"
      },
      "execution_count": 46,
      "outputs": [
        {
          "output_type": "execute_result",
          "data": {
            "text/plain": [
              "'2.2.1+cu121'"
            ],
            "application/vnd.google.colaboratory.intrinsic+json": {
              "type": "string"
            }
          },
          "metadata": {},
          "execution_count": 46
        }
      ]
    },
    {
      "cell_type": "code",
      "source": [
        "rows = 5\n",
        "columns = 10\n",
        "tensor = torch.rand((rows, columns))"
      ],
      "metadata": {
        "id": "40V6AqEmoLxf"
      },
      "execution_count": 47,
      "outputs": []
    },
    {
      "cell_type": "code",
      "source": [
        "tensor"
      ],
      "metadata": {
        "colab": {
          "base_uri": "https://localhost:8080/"
        },
        "id": "pLuzQguAoayP",
        "outputId": "e0afe57c-54bf-4631-a6ba-01d883fa37b8"
      },
      "execution_count": 48,
      "outputs": [
        {
          "output_type": "execute_result",
          "data": {
            "text/plain": [
              "tensor([[0.0988, 0.7055, 0.7416, 0.4147, 0.1640, 0.7897, 0.3514, 0.4658, 0.5390,\n",
              "         0.5835],\n",
              "        [0.5511, 0.4439, 0.2630, 0.4850, 0.8437, 0.6115, 0.8746, 0.9514, 0.3684,\n",
              "         0.1987],\n",
              "        [0.3837, 0.5136, 0.0127, 0.4076, 0.8824, 0.6937, 0.4816, 0.2131, 0.1585,\n",
              "         0.0011],\n",
              "        [0.1989, 0.2132, 0.7584, 0.5742, 0.2353, 0.1452, 0.0763, 0.8331, 0.1354,\n",
              "         0.5476],\n",
              "        [0.5038, 0.2040, 0.0172, 0.0233, 0.5552, 0.7317, 0.8823, 0.3144, 0.2838,\n",
              "         0.4621]])"
            ]
          },
          "metadata": {},
          "execution_count": 48
        }
      ]
    },
    {
      "cell_type": "code",
      "source": [
        "tensor.shape"
      ],
      "metadata": {
        "colab": {
          "base_uri": "https://localhost:8080/"
        },
        "id": "D08r6DjFoeP8",
        "outputId": "9f491755-826e-43b5-a3f5-f8b12d953624"
      },
      "execution_count": 49,
      "outputs": [
        {
          "output_type": "execute_result",
          "data": {
            "text/plain": [
              "torch.Size([5, 10])"
            ]
          },
          "metadata": {},
          "execution_count": 49
        }
      ]
    },
    {
      "cell_type": "code",
      "source": [
        "tensor[0] # accessed first row"
      ],
      "metadata": {
        "colab": {
          "base_uri": "https://localhost:8080/"
        },
        "id": "aTvsZ9nTogNe",
        "outputId": "110f8716-dfe2-48a1-9a51-5f54ebca1220"
      },
      "execution_count": 50,
      "outputs": [
        {
          "output_type": "execute_result",
          "data": {
            "text/plain": [
              "tensor([0.0988, 0.7055, 0.7416, 0.4147, 0.1640, 0.7897, 0.3514, 0.4658, 0.5390,\n",
              "        0.5835])"
            ]
          },
          "metadata": {},
          "execution_count": 50
        }
      ]
    },
    {
      "cell_type": "code",
      "source": [
        "tensor[0].shape"
      ],
      "metadata": {
        "colab": {
          "base_uri": "https://localhost:8080/"
        },
        "id": "dnoYWWESomo4",
        "outputId": "f5f8dcd9-4656-4bac-db26-f33dc07ad9d2"
      },
      "execution_count": 51,
      "outputs": [
        {
          "output_type": "execute_result",
          "data": {
            "text/plain": [
              "torch.Size([10])"
            ]
          },
          "metadata": {},
          "execution_count": 51
        }
      ]
    },
    {
      "cell_type": "code",
      "source": [
        "# if you want to access the first row all columns\n",
        "tensor[0, :] # [0, :] 0 row, : all columns"
      ],
      "metadata": {
        "colab": {
          "base_uri": "https://localhost:8080/"
        },
        "id": "KR7P6iycpRM5",
        "outputId": "82baa425-23f1-45a7-e030-7f8cbd69acab"
      },
      "execution_count": 52,
      "outputs": [
        {
          "output_type": "execute_result",
          "data": {
            "text/plain": [
              "tensor([0.0988, 0.7055, 0.7416, 0.4147, 0.1640, 0.7897, 0.3514, 0.4658, 0.5390,\n",
              "        0.5835])"
            ]
          },
          "metadata": {},
          "execution_count": 52
        }
      ]
    },
    {
      "cell_type": "code",
      "source": [
        "# if you want to only access the all 1 rows 1 colum\n",
        "tensor[:, 0]  # :=all rows, 0=column"
      ],
      "metadata": {
        "colab": {
          "base_uri": "https://localhost:8080/"
        },
        "id": "xmyQhYh9pZyo",
        "outputId": "b56b254b-ff7c-487f-cc04-fd2171c402ce"
      },
      "execution_count": 53,
      "outputs": [
        {
          "output_type": "execute_result",
          "data": {
            "text/plain": [
              "tensor([0.0988, 0.5511, 0.3837, 0.1989, 0.5038])"
            ]
          },
          "metadata": {},
          "execution_count": 53
        }
      ]
    },
    {
      "cell_type": "code",
      "source": [
        "# if you want select all values use=:, default it takes 0 and len-1.\n",
        "# or either you can use start:end(length-1)"
      ],
      "metadata": {
        "id": "ln4kbLSTpjZg"
      },
      "execution_count": 54,
      "outputs": []
    },
    {
      "cell_type": "code",
      "source": [
        "# Accessing multiple values in a tensor giving the list of indices\n",
        "tensor1 = torch.arange(10)\n",
        "tensor1"
      ],
      "metadata": {
        "colab": {
          "base_uri": "https://localhost:8080/"
        },
        "id": "V0ykhRkSqkdM",
        "outputId": "fcfa8dda-7c6c-43ed-9543-de103f2ecde1"
      },
      "execution_count": 55,
      "outputs": [
        {
          "output_type": "execute_result",
          "data": {
            "text/plain": [
              "tensor([0, 1, 2, 3, 4, 5, 6, 7, 8, 9])"
            ]
          },
          "metadata": {},
          "execution_count": 55
        }
      ]
    },
    {
      "cell_type": "code",
      "source": [
        "indices = [1, 5, 2] # list of indices to get values\n",
        "tensor1[indices]"
      ],
      "metadata": {
        "colab": {
          "base_uri": "https://localhost:8080/"
        },
        "id": "l6zdYoI5qujI",
        "outputId": "b74c812a-086d-402c-dbfe-8e39e9daf0a9"
      },
      "execution_count": 56,
      "outputs": [
        {
          "output_type": "execute_result",
          "data": {
            "text/plain": [
              "tensor([1, 5, 2])"
            ]
          },
          "metadata": {},
          "execution_count": 56
        }
      ]
    },
    {
      "cell_type": "code",
      "source": [
        "# More advanced indexing\n",
        "# boolen index\n",
        "\n",
        "tensor2 = torch.arange(20)"
      ],
      "metadata": {
        "id": "H78dk64HrDgK"
      },
      "execution_count": 57,
      "outputs": []
    },
    {
      "cell_type": "code",
      "source": [
        "tensor2"
      ],
      "metadata": {
        "colab": {
          "base_uri": "https://localhost:8080/"
        },
        "id": "0gF7dY-Or9zD",
        "outputId": "811c6a1c-18d6-4dc4-fed6-53a546dbd523"
      },
      "execution_count": 58,
      "outputs": [
        {
          "output_type": "execute_result",
          "data": {
            "text/plain": [
              "tensor([ 0,  1,  2,  3,  4,  5,  6,  7,  8,  9, 10, 11, 12, 13, 14, 15, 16, 17,\n",
              "        18, 19])"
            ]
          },
          "metadata": {},
          "execution_count": 58
        }
      ]
    },
    {
      "cell_type": "code",
      "source": [
        "# lets get the values which are less than 5 and greater than 15.\n",
        "# output need to be: 1, 2, 3, 4, 16, 17, 18, 19\n",
        "# writing the condition use the ()\n",
        "tensor2[(tensor2 < 5) | (tensor2 > 15)]"
      ],
      "metadata": {
        "colab": {
          "base_uri": "https://localhost:8080/"
        },
        "id": "m76hw__Hr-wf",
        "outputId": "df1826e7-90f9-455b-854e-00741341bebc"
      },
      "execution_count": 59,
      "outputs": [
        {
          "output_type": "execute_result",
          "data": {
            "text/plain": [
              "tensor([ 0,  1,  2,  3,  4, 16, 17, 18, 19])"
            ]
          },
          "metadata": {},
          "execution_count": 59
        }
      ]
    },
    {
      "cell_type": "code",
      "source": [
        "# | or , & and\n",
        "tensor2[(tensor2 > 5) & (tensor2 <15)]"
      ],
      "metadata": {
        "colab": {
          "base_uri": "https://localhost:8080/"
        },
        "id": "rRYJSnR6sWdc",
        "outputId": "7bfe52ac-951d-4359-81fe-76a1e788241f"
      },
      "execution_count": 60,
      "outputs": [
        {
          "output_type": "execute_result",
          "data": {
            "text/plain": [
              "tensor([ 6,  7,  8,  9, 10, 11, 12, 13, 14])"
            ]
          },
          "metadata": {},
          "execution_count": 60
        }
      ]
    },
    {
      "cell_type": "code",
      "source": [
        "# values that divided by 2 tensor.remainder(value)\n",
        "tensor2[tensor2.remainder(2) == 0]"
      ],
      "metadata": {
        "colab": {
          "base_uri": "https://localhost:8080/"
        },
        "id": "0nYI0M1Es03O",
        "outputId": "54fee671-4f6b-4130-f869-7d561f90de47"
      },
      "execution_count": 61,
      "outputs": [
        {
          "output_type": "execute_result",
          "data": {
            "text/plain": [
              "tensor([ 0,  2,  4,  6,  8, 10, 12, 14, 16, 18])"
            ]
          },
          "metadata": {},
          "execution_count": 61
        }
      ]
    },
    {
      "cell_type": "code",
      "source": [
        "# torch.where(condition, input, otherwise)\n",
        "torch.where(tensor2 > 10, tensor2, tensor2**2)\n",
        "# if the value is > 10 i am sqaring the values, otherwise return value"
      ],
      "metadata": {
        "colab": {
          "base_uri": "https://localhost:8080/"
        },
        "id": "IJHIQ9VctIeQ",
        "outputId": "eff00062-d682-4e46-c6a4-caccea39fd9a"
      },
      "execution_count": 62,
      "outputs": [
        {
          "output_type": "execute_result",
          "data": {
            "text/plain": [
              "tensor([  0,   1,   4,   9,  16,  25,  36,  49,  64,  81, 100,  11,  12,  13,\n",
              "         14,  15,  16,  17,  18,  19])"
            ]
          },
          "metadata": {},
          "execution_count": 62
        }
      ]
    },
    {
      "cell_type": "code",
      "source": [
        "tensor3 = torch.tensor([1, 5, 5, 8, 7, 6, 7, 1])"
      ],
      "metadata": {
        "id": "s9mYZJjCuGgn"
      },
      "execution_count": 63,
      "outputs": []
    },
    {
      "cell_type": "code",
      "source": [
        "# tensor3 have the duplicate using tensor.uniques()\n",
        "tensor3.unique()"
      ],
      "metadata": {
        "colab": {
          "base_uri": "https://localhost:8080/"
        },
        "id": "-th3X8jBurQR",
        "outputId": "a92ee487-219c-4ae3-9999-87640a9b3806"
      },
      "execution_count": 64,
      "outputs": [
        {
          "output_type": "execute_result",
          "data": {
            "text/plain": [
              "tensor([1, 5, 6, 7, 8])"
            ]
          },
          "metadata": {},
          "execution_count": 64
        }
      ]
    },
    {
      "cell_type": "code",
      "source": [
        "# tensor.ndimension() will return the how many dimension tensor\n",
        "tensor3.ndimension()"
      ],
      "metadata": {
        "colab": {
          "base_uri": "https://localhost:8080/"
        },
        "id": "ZrK18r9luyYK",
        "outputId": "1be0868b-2154-432b-b88a-112f7b2b0245"
      },
      "execution_count": 65,
      "outputs": [
        {
          "output_type": "execute_result",
          "data": {
            "text/plain": [
              "1"
            ]
          },
          "metadata": {},
          "execution_count": 65
        }
      ]
    },
    {
      "cell_type": "code",
      "source": [
        "# lets do some value manipulation using the indexing techniques\n",
        "tensor4 = torch.ones((5, 5))\n",
        "tensor4"
      ],
      "metadata": {
        "colab": {
          "base_uri": "https://localhost:8080/"
        },
        "id": "yAwZTF61vAlc",
        "outputId": "4a47cd23-0efe-4eef-fa42-76f835a91c26"
      },
      "execution_count": 66,
      "outputs": [
        {
          "output_type": "execute_result",
          "data": {
            "text/plain": [
              "tensor([[1., 1., 1., 1., 1.],\n",
              "        [1., 1., 1., 1., 1.],\n",
              "        [1., 1., 1., 1., 1.],\n",
              "        [1., 1., 1., 1., 1.],\n",
              "        [1., 1., 1., 1., 1.]])"
            ]
          },
          "metadata": {},
          "execution_count": 66
        }
      ]
    },
    {
      "cell_type": "code",
      "source": [
        "tensor5 = tensor4.clone() # copying the tensor using tesor.clone()\n",
        "tensor5[0, 4] = 10 # replacing the value 1 to 10, at the 0 row 5 column\n",
        "tensor5\n"
      ],
      "metadata": {
        "colab": {
          "base_uri": "https://localhost:8080/"
        },
        "id": "icETBS_dvLbl",
        "outputId": "fed267e3-7345-4803-a8af-73c30971fa82"
      },
      "execution_count": 67,
      "outputs": [
        {
          "output_type": "execute_result",
          "data": {
            "text/plain": [
              "tensor([[ 1.,  1.,  1.,  1., 10.],\n",
              "        [ 1.,  1.,  1.,  1.,  1.],\n",
              "        [ 1.,  1.,  1.,  1.,  1.],\n",
              "        [ 1.,  1.,  1.,  1.,  1.],\n",
              "        [ 1.,  1.,  1.,  1.,  1.]])"
            ]
          },
          "metadata": {},
          "execution_count": 67
        }
      ]
    },
    {
      "cell_type": "code",
      "source": [
        "tensor5[:, 0] = 7 # replacing the 1 columns all rows with 7\n",
        "tensor5"
      ],
      "metadata": {
        "colab": {
          "base_uri": "https://localhost:8080/"
        },
        "id": "oprpMHWYvXhb",
        "outputId": "973b18ab-45bd-4a06-93c0-e19b574b0d44"
      },
      "execution_count": 68,
      "outputs": [
        {
          "output_type": "execute_result",
          "data": {
            "text/plain": [
              "tensor([[ 7.,  1.,  1.,  1., 10.],\n",
              "        [ 7.,  1.,  1.,  1.,  1.],\n",
              "        [ 7.,  1.,  1.,  1.,  1.],\n",
              "        [ 7.,  1.,  1.,  1.,  1.],\n",
              "        [ 7.,  1.,  1.,  1.,  1.]])"
            ]
          },
          "metadata": {},
          "execution_count": 68
        }
      ]
    },
    {
      "cell_type": "code",
      "source": [
        "tensor5[3, :] = 45\n",
        "tensor5"
      ],
      "metadata": {
        "colab": {
          "base_uri": "https://localhost:8080/"
        },
        "id": "Vst5Xq0xvi0T",
        "outputId": "1c139b30-44db-491e-f0f9-dbc83bf56162"
      },
      "execution_count": 69,
      "outputs": [
        {
          "output_type": "execute_result",
          "data": {
            "text/plain": [
              "tensor([[ 7.,  1.,  1.,  1., 10.],\n",
              "        [ 7.,  1.,  1.,  1.,  1.],\n",
              "        [ 7.,  1.,  1.,  1.,  1.],\n",
              "        [45., 45., 45., 45., 45.],\n",
              "        [ 7.,  1.,  1.,  1.,  1.]])"
            ]
          },
          "metadata": {},
          "execution_count": 69
        }
      ]
    },
    {
      "cell_type": "code",
      "source": [
        "torch.where(tensor5==45, tensor5, 0) # replacing the 0 where the value is not 45"
      ],
      "metadata": {
        "colab": {
          "base_uri": "https://localhost:8080/"
        },
        "id": "yzt5Wk-iwSIY",
        "outputId": "acd6a861-c9ea-4ec8-bc59-9432ff8effe3"
      },
      "execution_count": 70,
      "outputs": [
        {
          "output_type": "execute_result",
          "data": {
            "text/plain": [
              "tensor([[ 0.,  0.,  0.,  0.,  0.],\n",
              "        [ 0.,  0.,  0.,  0.,  0.],\n",
              "        [ 0.,  0.,  0.,  0.,  0.],\n",
              "        [45., 45., 45., 45., 45.],\n",
              "        [ 0.,  0.,  0.,  0.,  0.]])"
            ]
          },
          "metadata": {},
          "execution_count": 70
        }
      ]
    },
    {
      "cell_type": "markdown",
      "source": [
        "# Tensor Reshaping"
      ],
      "metadata": {
        "id": "1LbveSEgxrzs"
      }
    },
    {
      "cell_type": "code",
      "source": [
        "tensor = torch.rand(9)\n",
        "tensor"
      ],
      "metadata": {
        "colab": {
          "base_uri": "https://localhost:8080/"
        },
        "id": "IyUlsGT4x2Ei",
        "outputId": "00c2d0e0-d282-4f0b-c004-5c2825ea47db"
      },
      "execution_count": 71,
      "outputs": [
        {
          "output_type": "execute_result",
          "data": {
            "text/plain": [
              "tensor([0.5321, 0.2675, 0.9010, 0.2575, 0.5148, 0.5502, 0.7392, 0.6158, 0.8688])"
            ]
          },
          "metadata": {},
          "execution_count": 71
        }
      ]
    },
    {
      "cell_type": "code",
      "source": [
        "# reshape into 3 * 3 metrics, make sure to assing variable it wont reshape in tensor\n",
        "tensor = tensor.view(3, 3)\n",
        "tensor"
      ],
      "metadata": {
        "colab": {
          "base_uri": "https://localhost:8080/"
        },
        "id": "8WA0C0n0yANl",
        "outputId": "203b784f-4b67-43c5-879e-933b713820aa"
      },
      "execution_count": 72,
      "outputs": [
        {
          "output_type": "execute_result",
          "data": {
            "text/plain": [
              "tensor([[0.5321, 0.2675, 0.9010],\n",
              "        [0.2575, 0.5148, 0.5502],\n",
              "        [0.7392, 0.6158, 0.8688]])"
            ]
          },
          "metadata": {},
          "execution_count": 72
        }
      ]
    },
    {
      "cell_type": "code",
      "source": [
        "tensor1 = torch.rand(10)\n",
        "tensor1"
      ],
      "metadata": {
        "colab": {
          "base_uri": "https://localhost:8080/"
        },
        "id": "-eWf6DP8yGVi",
        "outputId": "b1104855-911d-4811-b0fe-fbcb99accbe8"
      },
      "execution_count": 73,
      "outputs": [
        {
          "output_type": "execute_result",
          "data": {
            "text/plain": [
              "tensor([0.8761, 0.1116, 0.8562, 0.5856, 0.0437, 0.5351, 0.1953, 0.8731, 0.2051,\n",
              "        0.4115])"
            ]
          },
          "metadata": {},
          "execution_count": 73
        }
      ]
    },
    {
      "cell_type": "code",
      "source": [
        "tensor1 = tensor1.view(5, 2)\n",
        "tensor1"
      ],
      "metadata": {
        "colab": {
          "base_uri": "https://localhost:8080/"
        },
        "id": "Q9Prp2PLyaXv",
        "outputId": "851b356d-021c-4143-f8fa-3d2c6b990a46"
      },
      "execution_count": 74,
      "outputs": [
        {
          "output_type": "execute_result",
          "data": {
            "text/plain": [
              "tensor([[0.8761, 0.1116],\n",
              "        [0.8562, 0.5856],\n",
              "        [0.0437, 0.5351],\n",
              "        [0.1953, 0.8731],\n",
              "        [0.2051, 0.4115]])"
            ]
          },
          "metadata": {},
          "execution_count": 74
        }
      ]
    },
    {
      "cell_type": "code",
      "source": [
        "tensor2 = torch.rand(10)\n",
        "tensor2"
      ],
      "metadata": {
        "colab": {
          "base_uri": "https://localhost:8080/"
        },
        "id": "OEjKCJeByevX",
        "outputId": "e5f91f79-30a2-4fdc-ec51-3b918b5397c5"
      },
      "execution_count": 75,
      "outputs": [
        {
          "output_type": "execute_result",
          "data": {
            "text/plain": [
              "tensor([0.5251, 0.3824, 0.8677, 0.0751, 0.2201, 0.7815, 0.6547, 0.1788, 0.1465,\n",
              "        0.1043])"
            ]
          },
          "metadata": {},
          "execution_count": 75
        }
      ]
    },
    {
      "cell_type": "code",
      "source": [
        "tensor2 = tensor2.view(2, 5)\n",
        "tensor2"
      ],
      "metadata": {
        "colab": {
          "base_uri": "https://localhost:8080/"
        },
        "id": "LA-cFRbWyj0T",
        "outputId": "b953a155-3bac-4363-f431-b353767f8b2a"
      },
      "execution_count": 76,
      "outputs": [
        {
          "output_type": "execute_result",
          "data": {
            "text/plain": [
              "tensor([[0.5251, 0.3824, 0.8677, 0.0751, 0.2201],\n",
              "        [0.7815, 0.6547, 0.1788, 0.1465, 0.1043]])"
            ]
          },
          "metadata": {},
          "execution_count": 76
        }
      ]
    },
    {
      "cell_type": "code",
      "source": [
        "# we can also use tensor.reshape method to reshape tensor, it works same like view"
      ],
      "metadata": {
        "id": "nxWanupnyntj"
      },
      "execution_count": 77,
      "outputs": []
    },
    {
      "cell_type": "code",
      "source": [
        "tensor2"
      ],
      "metadata": {
        "colab": {
          "base_uri": "https://localhost:8080/"
        },
        "id": "zT1CaW5YzYWR",
        "outputId": "b42f4a14-d28e-4864-ded3-4369c7c84d81"
      },
      "execution_count": 78,
      "outputs": [
        {
          "output_type": "execute_result",
          "data": {
            "text/plain": [
              "tensor([[0.5251, 0.3824, 0.8677, 0.0751, 0.2201],\n",
              "        [0.7815, 0.6547, 0.1788, 0.1465, 0.1043]])"
            ]
          },
          "metadata": {},
          "execution_count": 78
        }
      ]
    },
    {
      "cell_type": "code",
      "source": [
        "tensor2 = tensor2.T\n",
        "tensor2"
      ],
      "metadata": {
        "colab": {
          "base_uri": "https://localhost:8080/"
        },
        "id": "PI4IEG-azyo1",
        "outputId": "5aca92c1-4ea2-4eaf-e4bc-33458ebbb569"
      },
      "execution_count": 79,
      "outputs": [
        {
          "output_type": "execute_result",
          "data": {
            "text/plain": [
              "tensor([[0.5251, 0.7815],\n",
              "        [0.3824, 0.6547],\n",
              "        [0.8677, 0.1788],\n",
              "        [0.0751, 0.1465],\n",
              "        [0.2201, 0.1043]])"
            ]
          },
          "metadata": {},
          "execution_count": 79
        }
      ]
    },
    {
      "cell_type": "code",
      "source": [
        "# tensor.T or torch.transpose(tensor) will make the row -> columns, columns -> row\n",
        "torch.transpose(tensor2, 1, 0)"
      ],
      "metadata": {
        "colab": {
          "base_uri": "https://localhost:8080/"
        },
        "id": "IY73xVjRz0eF",
        "outputId": "c2b7d816-e1b9-45fd-8a16-c8d569882ebe"
      },
      "execution_count": 80,
      "outputs": [
        {
          "output_type": "execute_result",
          "data": {
            "text/plain": [
              "tensor([[0.5251, 0.3824, 0.8677, 0.0751, 0.2201],\n",
              "        [0.7815, 0.6547, 0.1788, 0.1465, 0.1043]])"
            ]
          },
          "metadata": {},
          "execution_count": 80
        }
      ]
    },
    {
      "cell_type": "code",
      "source": [
        "tensor3 = torch.rand((64, 5, 8))\n",
        "tensor3"
      ],
      "metadata": {
        "colab": {
          "base_uri": "https://localhost:8080/"
        },
        "id": "OkDFG2hZ0FQ7",
        "outputId": "5a5ec5ba-68fe-4405-b0dc-2b62f9150692"
      },
      "execution_count": 81,
      "outputs": [
        {
          "output_type": "execute_result",
          "data": {
            "text/plain": [
              "tensor([[[0.6077, 0.1247, 0.1293,  ..., 0.5227, 0.7337, 0.3966],\n",
              "         [0.6031, 0.4059, 0.1158,  ..., 0.9969, 0.3695, 0.9644],\n",
              "         [0.7247, 0.3420, 0.6909,  ..., 0.3139, 0.9132, 0.0208],\n",
              "         [0.4132, 0.9749, 0.1676,  ..., 0.6563, 0.8833, 0.9769],\n",
              "         [0.6293, 0.3563, 0.9730,  ..., 0.3227, 0.8372, 0.1112]],\n",
              "\n",
              "        [[0.1306, 0.9922, 0.9299,  ..., 0.6345, 0.6580, 0.5016],\n",
              "         [0.1303, 0.8171, 0.3591,  ..., 0.5741, 0.4390, 0.0122],\n",
              "         [0.6965, 0.2764, 0.1676,  ..., 0.6469, 0.6521, 0.8824],\n",
              "         [0.8001, 0.1429, 0.8315,  ..., 0.4654, 0.1588, 0.2659],\n",
              "         [0.0354, 0.2889, 0.0928,  ..., 0.4421, 0.7403, 0.1121]],\n",
              "\n",
              "        [[0.1457, 0.0532, 0.8812,  ..., 0.3527, 0.4388, 0.9839],\n",
              "         [0.9208, 0.5043, 0.8733,  ..., 0.3133, 0.2440, 0.3969],\n",
              "         [0.8548, 0.9716, 0.8620,  ..., 0.8121, 0.5860, 0.4073],\n",
              "         [0.5281, 0.4114, 0.1823,  ..., 0.0553, 0.5280, 0.2977],\n",
              "         [0.9868, 0.2370, 0.1297,  ..., 0.8163, 0.8352, 0.2665]],\n",
              "\n",
              "        ...,\n",
              "\n",
              "        [[0.6475, 0.6713, 0.0821,  ..., 0.7648, 0.7738, 0.7086],\n",
              "         [0.9229, 0.3417, 0.9490,  ..., 0.1293, 0.7122, 0.5611],\n",
              "         [0.7652, 0.4445, 0.7430,  ..., 0.5661, 0.0188, 0.4391],\n",
              "         [0.3912, 0.2711, 0.1277,  ..., 0.7997, 0.1350, 0.0938],\n",
              "         [0.7971, 0.3044, 0.6891,  ..., 0.0180, 0.5008, 0.1006]],\n",
              "\n",
              "        [[0.3743, 0.9555, 0.4394,  ..., 0.2655, 0.8055, 0.5034],\n",
              "         [0.5825, 0.2750, 0.1092,  ..., 0.4977, 0.0967, 0.8965],\n",
              "         [0.5159, 0.2585, 0.2672,  ..., 0.1196, 0.8440, 0.7018],\n",
              "         [0.4444, 0.0420, 0.5677,  ..., 0.2358, 0.8229, 0.3374],\n",
              "         [0.3999, 0.9897, 0.3510,  ..., 0.6824, 0.2613, 0.5390]],\n",
              "\n",
              "        [[0.4268, 0.6846, 0.7501,  ..., 0.2946, 0.3948, 0.5186],\n",
              "         [0.3649, 0.9809, 0.3558,  ..., 0.8972, 0.9270, 0.2257],\n",
              "         [0.6332, 0.3850, 0.8408,  ..., 0.2694, 0.7345, 0.3718],\n",
              "         [0.9963, 0.5566, 0.6929,  ..., 0.2252, 0.6836, 0.9307],\n",
              "         [0.2420, 0.1884, 0.9524,  ..., 0.0208, 0.3096, 0.4474]]])"
            ]
          },
          "metadata": {},
          "execution_count": 81
        }
      ]
    },
    {
      "cell_type": "code",
      "source": [
        "tensor3.shape"
      ],
      "metadata": {
        "colab": {
          "base_uri": "https://localhost:8080/"
        },
        "id": "vWYKqWmc1n5g",
        "outputId": "6f929347-c0ee-4b71-818e-36feecbc64e0"
      },
      "execution_count": 82,
      "outputs": [
        {
          "output_type": "execute_result",
          "data": {
            "text/plain": [
              "torch.Size([64, 5, 8])"
            ]
          },
          "metadata": {},
          "execution_count": 82
        }
      ]
    },
    {
      "cell_type": "code",
      "source": [
        "# to switch the 1 , 2 dimension keeping 0 as smae\n",
        "tensor3.view(64, -1)"
      ],
      "metadata": {
        "colab": {
          "base_uri": "https://localhost:8080/"
        },
        "id": "Et9RDoz91ovD",
        "outputId": "035883f0-b6dc-43e3-b3a9-3126e595de45"
      },
      "execution_count": 83,
      "outputs": [
        {
          "output_type": "execute_result",
          "data": {
            "text/plain": [
              "tensor([[0.6077, 0.1247, 0.1293,  ..., 0.3227, 0.8372, 0.1112],\n",
              "        [0.1306, 0.9922, 0.9299,  ..., 0.4421, 0.7403, 0.1121],\n",
              "        [0.1457, 0.0532, 0.8812,  ..., 0.8163, 0.8352, 0.2665],\n",
              "        ...,\n",
              "        [0.6475, 0.6713, 0.0821,  ..., 0.0180, 0.5008, 0.1006],\n",
              "        [0.3743, 0.9555, 0.4394,  ..., 0.6824, 0.2613, 0.5390],\n",
              "        [0.4268, 0.6846, 0.7501,  ..., 0.0208, 0.3096, 0.4474]])"
            ]
          },
          "metadata": {},
          "execution_count": 83
        }
      ]
    },
    {
      "cell_type": "code",
      "source": [
        "tensor3.shape"
      ],
      "metadata": {
        "colab": {
          "base_uri": "https://localhost:8080/"
        },
        "id": "KkbD0G6x1x0V",
        "outputId": "a03e3f31-872e-4687-f46f-b7ecbd8f5da0"
      },
      "execution_count": 84,
      "outputs": [
        {
          "output_type": "execute_result",
          "data": {
            "text/plain": [
              "torch.Size([64, 5, 8])"
            ]
          },
          "metadata": {},
          "execution_count": 84
        }
      ]
    },
    {
      "cell_type": "code",
      "source": [
        "tensor3 = tensor3.permute(0, 2, 1) # shifted dimensions 0 will be the same\n",
        "tensor3"
      ],
      "metadata": {
        "colab": {
          "base_uri": "https://localhost:8080/"
        },
        "id": "Z_DlDbJK12kj",
        "outputId": "0fa4fbb2-bded-4301-b967-529a5407413c"
      },
      "execution_count": 85,
      "outputs": [
        {
          "output_type": "execute_result",
          "data": {
            "text/plain": [
              "tensor([[[0.6077, 0.6031, 0.7247, 0.4132, 0.6293],\n",
              "         [0.1247, 0.4059, 0.3420, 0.9749, 0.3563],\n",
              "         [0.1293, 0.1158, 0.6909, 0.1676, 0.9730],\n",
              "         ...,\n",
              "         [0.5227, 0.9969, 0.3139, 0.6563, 0.3227],\n",
              "         [0.7337, 0.3695, 0.9132, 0.8833, 0.8372],\n",
              "         [0.3966, 0.9644, 0.0208, 0.9769, 0.1112]],\n",
              "\n",
              "        [[0.1306, 0.1303, 0.6965, 0.8001, 0.0354],\n",
              "         [0.9922, 0.8171, 0.2764, 0.1429, 0.2889],\n",
              "         [0.9299, 0.3591, 0.1676, 0.8315, 0.0928],\n",
              "         ...,\n",
              "         [0.6345, 0.5741, 0.6469, 0.4654, 0.4421],\n",
              "         [0.6580, 0.4390, 0.6521, 0.1588, 0.7403],\n",
              "         [0.5016, 0.0122, 0.8824, 0.2659, 0.1121]],\n",
              "\n",
              "        [[0.1457, 0.9208, 0.8548, 0.5281, 0.9868],\n",
              "         [0.0532, 0.5043, 0.9716, 0.4114, 0.2370],\n",
              "         [0.8812, 0.8733, 0.8620, 0.1823, 0.1297],\n",
              "         ...,\n",
              "         [0.3527, 0.3133, 0.8121, 0.0553, 0.8163],\n",
              "         [0.4388, 0.2440, 0.5860, 0.5280, 0.8352],\n",
              "         [0.9839, 0.3969, 0.4073, 0.2977, 0.2665]],\n",
              "\n",
              "        ...,\n",
              "\n",
              "        [[0.6475, 0.9229, 0.7652, 0.3912, 0.7971],\n",
              "         [0.6713, 0.3417, 0.4445, 0.2711, 0.3044],\n",
              "         [0.0821, 0.9490, 0.7430, 0.1277, 0.6891],\n",
              "         ...,\n",
              "         [0.7648, 0.1293, 0.5661, 0.7997, 0.0180],\n",
              "         [0.7738, 0.7122, 0.0188, 0.1350, 0.5008],\n",
              "         [0.7086, 0.5611, 0.4391, 0.0938, 0.1006]],\n",
              "\n",
              "        [[0.3743, 0.5825, 0.5159, 0.4444, 0.3999],\n",
              "         [0.9555, 0.2750, 0.2585, 0.0420, 0.9897],\n",
              "         [0.4394, 0.1092, 0.2672, 0.5677, 0.3510],\n",
              "         ...,\n",
              "         [0.2655, 0.4977, 0.1196, 0.2358, 0.6824],\n",
              "         [0.8055, 0.0967, 0.8440, 0.8229, 0.2613],\n",
              "         [0.5034, 0.8965, 0.7018, 0.3374, 0.5390]],\n",
              "\n",
              "        [[0.4268, 0.3649, 0.6332, 0.9963, 0.2420],\n",
              "         [0.6846, 0.9809, 0.3850, 0.5566, 0.1884],\n",
              "         [0.7501, 0.3558, 0.8408, 0.6929, 0.9524],\n",
              "         ...,\n",
              "         [0.2946, 0.8972, 0.2694, 0.2252, 0.0208],\n",
              "         [0.3948, 0.9270, 0.7345, 0.6836, 0.3096],\n",
              "         [0.5186, 0.2257, 0.3718, 0.9307, 0.4474]]])"
            ]
          },
          "metadata": {},
          "execution_count": 85
        }
      ]
    },
    {
      "cell_type": "code",
      "source": [
        "tensor3.shape"
      ],
      "metadata": {
        "colab": {
          "base_uri": "https://localhost:8080/"
        },
        "id": "1X-bR3Gz1_mF",
        "outputId": "5c40e36e-1820-4616-de26-f6b90d0ef82b"
      },
      "execution_count": 86,
      "outputs": [
        {
          "output_type": "execute_result",
          "data": {
            "text/plain": [
              "torch.Size([64, 8, 5])"
            ]
          },
          "metadata": {},
          "execution_count": 86
        }
      ]
    },
    {
      "cell_type": "code",
      "source": [
        "# to add an dimension to the tensor\n",
        "tensor4 = torch.rand(10)\n",
        "tensor4"
      ],
      "metadata": {
        "colab": {
          "base_uri": "https://localhost:8080/"
        },
        "id": "0pXVL5eG2BVg",
        "outputId": "1a6bc5da-5864-41ba-f67c-b476f557ce70"
      },
      "execution_count": 87,
      "outputs": [
        {
          "output_type": "execute_result",
          "data": {
            "text/plain": [
              "tensor([0.0676, 0.7432, 0.9842, 0.0203, 0.9576, 0.8916, 0.7446, 0.5598, 0.9972,\n",
              "        0.0760])"
            ]
          },
          "metadata": {},
          "execution_count": 87
        }
      ]
    },
    {
      "cell_type": "code",
      "source": [
        "tensor4.shape"
      ],
      "metadata": {
        "colab": {
          "base_uri": "https://localhost:8080/"
        },
        "id": "wumA6mmp2nIr",
        "outputId": "6d264645-ea01-427a-c57a-31f51022489c"
      },
      "execution_count": 88,
      "outputs": [
        {
          "output_type": "execute_result",
          "data": {
            "text/plain": [
              "torch.Size([10])"
            ]
          },
          "metadata": {},
          "execution_count": 88
        }
      ]
    },
    {
      "cell_type": "code",
      "source": [
        "# tensor.unsqueeze() add the dimensions to the tensor\n",
        "tensor4 = tensor4.unsqueeze(1)\n",
        "tensor4.shape"
      ],
      "metadata": {
        "colab": {
          "base_uri": "https://localhost:8080/"
        },
        "id": "Vfe5DsZT2n9r",
        "outputId": "8c745e4f-e5cd-4b41-a1dd-8f83b696e087"
      },
      "execution_count": 89,
      "outputs": [
        {
          "output_type": "execute_result",
          "data": {
            "text/plain": [
              "torch.Size([10, 1])"
            ]
          },
          "metadata": {},
          "execution_count": 89
        }
      ]
    },
    {
      "cell_type": "code",
      "source": [
        "# tensor.sqeeze() remove the dimension to the tensor\n",
        "tensor4 = tensor4.squeeze(1)\n",
        "tensor4"
      ],
      "metadata": {
        "colab": {
          "base_uri": "https://localhost:8080/"
        },
        "id": "6giz2YEc2ytA",
        "outputId": "6c7d49b1-11b2-4c99-a9d6-b67043d38ded"
      },
      "execution_count": 91,
      "outputs": [
        {
          "output_type": "execute_result",
          "data": {
            "text/plain": [
              "tensor([0.0676, 0.7432, 0.9842, 0.0203, 0.9576, 0.8916, 0.7446, 0.5598, 0.9972,\n",
              "        0.0760])"
            ]
          },
          "metadata": {},
          "execution_count": 91
        }
      ]
    },
    {
      "cell_type": "code",
      "source": [
        "tensor4.shape"
      ],
      "metadata": {
        "colab": {
          "base_uri": "https://localhost:8080/"
        },
        "id": "ip8eI6yZ2tnE",
        "outputId": "4325625d-bd34-45ed-c88e-eb7e959e6a87"
      },
      "execution_count": 92,
      "outputs": [
        {
          "output_type": "execute_result",
          "data": {
            "text/plain": [
              "torch.Size([10])"
            ]
          },
          "metadata": {},
          "execution_count": 92
        }
      ]
    },
    {
      "cell_type": "code",
      "source": [
        "tensor4.shape"
      ],
      "metadata": {
        "colab": {
          "base_uri": "https://localhost:8080/"
        },
        "id": "qfQ2byCg3JO-",
        "outputId": "2a722e75-e979-4cdd-f99d-1fd924f8136d"
      },
      "execution_count": 94,
      "outputs": [
        {
          "output_type": "execute_result",
          "data": {
            "text/plain": [
              "torch.Size([10])"
            ]
          },
          "metadata": {},
          "execution_count": 94
        }
      ]
    }
  ]
}