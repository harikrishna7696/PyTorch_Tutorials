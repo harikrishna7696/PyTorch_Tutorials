{
  "nbformat": 4,
  "nbformat_minor": 0,
  "metadata": {
    "colab": {
      "provenance": []
    },
    "kernelspec": {
      "name": "python3",
      "display_name": "Python 3"
    },
    "language_info": {
      "name": "python"
    }
  },
  "cells": [
    {
      "cell_type": "markdown",
      "source": [
        "Are you **curious to learn PyTorch**, So do follow on **github** to get tutorials"
      ],
      "metadata": {
        "id": "R2eAufeuWhuC"
      }
    },
    {
      "cell_type": "code",
      "source": [
        "# lets import pytorch\n",
        "# Colab has pre-installed deep leaning libraries like torch, tensorflow, numpy etc.\n",
        "# If the library is not pre-installed in collab, use: !pip install library_name\n",
        "import torch\n",
        "print(\"Torch Version: \", torch.__version__)"
      ],
      "metadata": {
        "colab": {
          "base_uri": "https://localhost:8080/"
        },
        "id": "TRwzRS7xWdzR",
        "outputId": "893fbc79-51ee-4857-cf2e-ed3b11c8cb02"
      },
      "execution_count": 1,
      "outputs": [
        {
          "output_type": "stream",
          "name": "stdout",
          "text": [
            "Torch Version:  2.2.1+cu121\n"
          ]
        }
      ]
    },
    {
      "cell_type": "code",
      "source": [
        "print(\"Torch install with cuda extensin: version+cuversion, which is utilize the GPU which will help to run code very fast on GPU(Graphics Processing Unit)\")"
      ],
      "metadata": {
        "colab": {
          "base_uri": "https://localhost:8080/"
        },
        "id": "HCaF0dW2XY6B",
        "outputId": "1502c626-6b8a-4f57-8bfc-05e0fb278c6b"
      },
      "execution_count": 2,
      "outputs": [
        {
          "output_type": "stream",
          "name": "stdout",
          "text": [
            "Torch install with cuda extensin: version+cuversion, which is utilize the GPU which will help to run code very fast on GPU(Graphics Processing Unit)\n"
          ]
        }
      ]
    },
    {
      "cell_type": "markdown",
      "source": [
        "# **Introduction to tensors**\n",
        "Tensors are very **essential to deep learning**. as they used to **represent the input and ouput of neural networks**. Tensors also **stored weights and biases of the neural network**.\n",
        "\n",
        "You can create tensors from **0 to N dimensions** and it can easily **manipulate the tensors**.\n",
        "\n",
        "To create a tensor use: **torch.tensor(value)**\n",
        "\n",
        "To read more torch.tensor:https://pytorch.org/docs/stable/tensors.html\n",
        "\n",
        "\n",
        "**Scalar:** Scalars are single numbers"
      ],
      "metadata": {
        "id": "f2iA3MmEX53O"
      }
    },
    {
      "cell_type": "code",
      "source": [
        "# lets create a 0 dim tensor using torch\n",
        "\n",
        "scalar = torch.tensor(76)\n",
        "print(\"Tensor: \", scalar)"
      ],
      "metadata": {
        "colab": {
          "base_uri": "https://localhost:8080/"
        },
        "id": "AZdkOdHBZD7M",
        "outputId": "71acc043-7f8d-4622-eac1-78bb88cc3be1"
      },
      "execution_count": 3,
      "outputs": [
        {
          "output_type": "stream",
          "name": "stdout",
          "text": [
            "Tensor:  tensor(76)\n"
          ]
        }
      ]
    },
    {
      "cell_type": "code",
      "source": [
        "# so lets find out the information about tensor\n",
        "print(\"tensor shape: \", scalar.shape)\n",
        "print(\"tensor dimension: \", scalar.ndim) # it contain 0 dimension because only we give one value"
      ],
      "metadata": {
        "colab": {
          "base_uri": "https://localhost:8080/"
        },
        "id": "pvwLKETYZRpe",
        "outputId": "65024a0f-d1a9-4351-b38e-b759d4ccc70a"
      },
      "execution_count": 4,
      "outputs": [
        {
          "output_type": "stream",
          "name": "stdout",
          "text": [
            "tensor shape:  torch.Size([])\n",
            "tensor dimension:  0\n"
          ]
        }
      ]
    },
    {
      "cell_type": "code",
      "source": [
        "# so lets do some mathematical operaions\n",
        "print(\"Adding a number to tensor: \", scalar+10)\n",
        "print(\"subtract a number to tensor: \", scalar-10)\n",
        "print(\"multiplying a number to tensor: \", scalar*10)\n",
        "print(\"dividing a number to tensor: \", scalar/10)"
      ],
      "metadata": {
        "colab": {
          "base_uri": "https://localhost:8080/"
        },
        "id": "OPAXw1f6aTbI",
        "outputId": "e5c42a47-f97f-4bae-9041-f850fb5af8f4"
      },
      "execution_count": 5,
      "outputs": [
        {
          "output_type": "stream",
          "name": "stdout",
          "text": [
            "Adding a number to tensor:  tensor(86)\n",
            "subtract a number to tensor:  tensor(66)\n",
            "multiplying a number to tensor:  tensor(760)\n",
            "dividing a number to tensor:  tensor(7.6000)\n"
          ]
        }
      ]
    },
    {
      "cell_type": "code",
      "source": [
        "# when you print the tensor, you get tensor(value), to get only value need to use .item()\n",
        "print(\"Getting the only value from tensor: \", scalar.item())"
      ],
      "metadata": {
        "colab": {
          "base_uri": "https://localhost:8080/"
        },
        "id": "nZLr_qq2a1eJ",
        "outputId": "221122a7-5148-4966-e782-da583665baca"
      },
      "execution_count": 6,
      "outputs": [
        {
          "output_type": "stream",
          "name": "stdout",
          "text": [
            "Getting the only value from tensor:  76\n"
          ]
        }
      ]
    },
    {
      "cell_type": "code",
      "source": [
        "# To is tensor running on CPU or GPU use\n",
        "print(\"Is tensor running on gpu/cpu: \", scalar.device)"
      ],
      "metadata": {
        "colab": {
          "base_uri": "https://localhost:8080/"
        },
        "id": "wANhwBCIbFsG",
        "outputId": "79c26cd6-a544-479b-bd1a-24d6d4a4fc09"
      },
      "execution_count": 7,
      "outputs": [
        {
          "output_type": "stream",
          "name": "stdout",
          "text": [
            "Is tensor running on gpu/cpu:  cpu\n"
          ]
        }
      ]
    },
    {
      "cell_type": "markdown",
      "source": [
        "# **vector**\n",
        "A vector is often **represented as a 1-dimensional array of numbers**, referred to as components and is **displayed either in column form or row form**. Represented geometrically, vectors typically **represent coordinates within a n-dimensional space**, where n is the number of dimensions..\n"
      ],
      "metadata": {
        "id": "XIsleCV-cFgR"
      }
    },
    {
      "cell_type": "code",
      "source": [
        "# lets create the vector using torch.tensor\n",
        "vector = torch.tensor([1, 2, 3, 4])\n",
        "print(\"vector: \", vector)\n",
        "print(\"vector shape/size: \", vector.shape)\n",
        "print(\"vector dimensions: \", vector.dim()) # the dimension of the vector is 1"
      ],
      "metadata": {
        "colab": {
          "base_uri": "https://localhost:8080/"
        },
        "id": "O9D2Mz-HcbvB",
        "outputId": "4beb4447-4f92-4aa7-e763-0f0df8f6e141"
      },
      "execution_count": 8,
      "outputs": [
        {
          "output_type": "stream",
          "name": "stdout",
          "text": [
            "vector:  tensor([1, 2, 3, 4])\n",
            "vector shape/size:  torch.Size([4])\n",
            "vector dimensions:  1\n"
          ]
        }
      ]
    },
    {
      "cell_type": "code",
      "source": [
        "# same like the scalar we can do mathematical opertions on the vector\n",
        "print(\"Befor adding the number to vector: \", vector)\n",
        "print(\"Adding a number to vector: \", vector+10)\n",
        "print(\"After adding the number to vector: \", vector)"
      ],
      "metadata": {
        "colab": {
          "base_uri": "https://localhost:8080/"
        },
        "id": "juXUMgsGc_Xj",
        "outputId": "82212ed2-5462-4199-8500-e5e74ac180b5"
      },
      "execution_count": 9,
      "outputs": [
        {
          "output_type": "stream",
          "name": "stdout",
          "text": [
            "Befor adding the number to vector:  tensor([1, 2, 3, 4])\n",
            "Adding a number to vector:  tensor([11, 12, 13, 14])\n",
            "After adding the number to vector:  tensor([1, 2, 3, 4])\n"
          ]
        }
      ]
    },
    {
      "cell_type": "code",
      "source": [
        "# you have observed in above output if we give a single number do addition it added number to every tensor in the vector\n",
        "# ex: intitial list: [1, 2, 3, 4] addition happen like this: [1+10, 2+10, 3+10, 4+10] final output: [11, 12, 13, 14]"
      ],
      "metadata": {
        "id": "1v9HwDnod2qA"
      },
      "execution_count": 10,
      "outputs": []
    },
    {
      "cell_type": "markdown",
      "source": [
        "# **matix**\n",
        " A matrix is a **rectangular array of numbers** that can be seen as a **2nd-order tensor**. Matrices are used in machine learning to describe algorithms and processes, such as model training data.\n"
      ],
      "metadata": {
        "id": "BmfysdP1etdD"
      }
    },
    {
      "cell_type": "code",
      "source": [
        "# lets create the matrix.\n",
        "mat = torch.tensor([[1, 2],\n",
        "                    [2, 3]])\n",
        "print(\"Matrix: \", mat)"
      ],
      "metadata": {
        "colab": {
          "base_uri": "https://localhost:8080/"
        },
        "id": "hee5do1je-lo",
        "outputId": "24add1fd-6c33-49c4-b682-eb02500fbd94"
      },
      "execution_count": 11,
      "outputs": [
        {
          "output_type": "stream",
          "name": "stdout",
          "text": [
            "Matrix:  tensor([[1, 2],\n",
            "        [2, 3]])\n"
          ]
        }
      ]
    },
    {
      "cell_type": "code",
      "source": [
        "# all the operations that we applied for scalar and vector same we can apply to metrics"
      ],
      "metadata": {
        "id": "bOfhp6CifI4F"
      },
      "execution_count": 12,
      "outputs": []
    },
    {
      "cell_type": "code",
      "source": [
        "print(\"The dimenions of the matrix: \", mat.ndim) # matrix contains 2 dimensions only"
      ],
      "metadata": {
        "colab": {
          "base_uri": "https://localhost:8080/"
        },
        "id": "LCEcDY8BfTJu",
        "outputId": "185077de-2ae2-4c3f-9a9c-8c48cf4393c8"
      },
      "execution_count": 13,
      "outputs": [
        {
          "output_type": "stream",
          "name": "stdout",
          "text": [
            "The dimenions of the matrix:  2\n"
          ]
        }
      ]
    },
    {
      "cell_type": "markdown",
      "source": [
        "# **Tensor**\n",
        "\n",
        "  A tensor is **simply an n-dimensional array of numbers**. For example,** a vector is a one-dimensional tensor, a matrix is a two-dimensional tensor**, and **an image is a three-dimensional tensor (width, height, and depth)**.\n"
      ],
      "metadata": {
        "id": "Q60EcjGufpfu"
      }
    },
    {
      "cell_type": "code",
      "source": [
        "# lets create a tensor which conatians 2 or more dimension\n",
        "tensor = torch.tensor([[[[1, 2, 3],\n",
        "                       [4, 5, 6],\n",
        "                       [7, 8, 9],\n",
        "                       [10, 11, 12]]]])"
      ],
      "metadata": {
        "id": "_nzRIe3Jfyzv"
      },
      "execution_count": 14,
      "outputs": []
    },
    {
      "cell_type": "code",
      "source": [
        "print(\"tensor: \", tensor)"
      ],
      "metadata": {
        "colab": {
          "base_uri": "https://localhost:8080/"
        },
        "id": "kL9l-ph_gDZd",
        "outputId": "b5bfc61c-5e4a-47cb-cc14-aee5e7671512"
      },
      "execution_count": 15,
      "outputs": [
        {
          "output_type": "stream",
          "name": "stdout",
          "text": [
            "tensor:  tensor([[[[ 1,  2,  3],\n",
            "          [ 4,  5,  6],\n",
            "          [ 7,  8,  9],\n",
            "          [10, 11, 12]]]])\n"
          ]
        }
      ]
    },
    {
      "cell_type": "code",
      "source": [
        "print(\"dimensions of the tensor: \", tensor.ndim) # this is the tensor"
      ],
      "metadata": {
        "colab": {
          "base_uri": "https://localhost:8080/"
        },
        "id": "39C80P82gI3A",
        "outputId": "d60bf774-6e73-4ed6-d13a-1754612c2f6b"
      },
      "execution_count": 16,
      "outputs": [
        {
          "output_type": "stream",
          "name": "stdout",
          "text": [
            "dimensions of the tensor:  4\n"
          ]
        }
      ]
    },
    {
      "cell_type": "code",
      "source": [],
      "metadata": {
        "id": "PT6vhIp8gOD_"
      },
      "execution_count": 16,
      "outputs": []
    }
  ]
}