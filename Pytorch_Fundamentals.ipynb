{
  "nbformat": 4,
  "nbformat_minor": 0,
  "metadata": {
    "colab": {
      "provenance": []
    },
    "kernelspec": {
      "name": "python3",
      "display_name": "Python 3"
    },
    "language_info": {
      "name": "python"
    }
  },
  "cells": [
    {
      "cell_type": "markdown",
      "source": [
        "# What is PyTorch?\n",
        "PyTorch is a Open Source deep learning framework developed by Meta. It supports\n",
        "over 200 math operations. PyTorch is Widely used deep learning framework to build\n",
        "neural network model. PyTorch is very distinctive to GPU and CPU,"
      ],
      "metadata": {
        "id": "xPSGpmX7bGj0"
      }
    },
    {
      "cell_type": "markdown",
      "source": [
        "# Why PyTorch?\n",
        "\n",
        "1) **Data Parallelism:** PyTorch supports to do operations on multiple GPUS. it can easily distribute computational work among multiple GPU or CPU cores.\n",
        "\n",
        "**torch.nn.DataParallel:** using this it can do parallel processing on multiple GPUS.\n",
        "\n",
        "2) **Dynamic Computation Graph:** A computational graph is a representation of a mathematical computation, where nodes represent operations and edges represent data dependencies. Computational graphs are used in deep learning to represent the flow of data through a neural network.\n",
        "\n",
        "With this dynamic approach, we can fully see each and every computation and know exactly what is going on.\n",
        "\n",
        "3)  **Open Neural Network Exchange(ONNX) support:** PyTorch has native onnx support and it can export models into onnx. This will enable PyTorch-based models to direct access the ONNX-compatible platforms and run-times."
      ],
      "metadata": {
        "id": "am9Cz_AjcIjk"
      }
    },
    {
      "cell_type": "code",
      "source": [
        "# Fundamentals of the PyTorch"
      ],
      "metadata": {
        "id": "UhHlr_CdVY6H"
      },
      "execution_count": 1,
      "outputs": []
    },
    {
      "cell_type": "code",
      "source": [
        "# check the torch is installed or not in google collab is preinstalled\n",
        "import torch\n",
        "print('version: ', torch.__version__)"
      ],
      "metadata": {
        "id": "j1tYHdnteqH5",
        "colab": {
          "base_uri": "https://localhost:8080/"
        },
        "outputId": "3901c721-b883-47d5-9d44-38ce01c5cbd4"
      },
      "execution_count": 2,
      "outputs": [
        {
          "output_type": "stream",
          "name": "stdout",
          "text": [
            "version:  2.2.1+cu121\n"
          ]
        }
      ]
    },
    {
      "cell_type": "code",
      "source": [
        "# if torch is not available to install torch.\n",
        "!pip install torch # for jupyter notebook\n",
        "# pip install torch # for linux."
      ],
      "metadata": {
        "id": "tzMV8TmuWvpk"
      },
      "execution_count": null,
      "outputs": []
    },
    {
      "cell_type": "markdown",
      "source": [
        "# Introduction of Tensors\n",
        "\n",
        "**Tensors:** Tensors are 1D or N dimensional array that store numerical values, it represents and manipulate the data in deep learning.\n",
        "\n",
        "ex:\n",
        "\n",
        "**vector:** is 1D tensor.\n",
        "\n",
        "**Matrix:** is 2D tensor."
      ],
      "metadata": {
        "id": "AJL6Z2T-XDJJ"
      }
    },
    {
      "cell_type": "code",
      "source": [
        "# Creating tensor\n",
        "scalar = torch.tensor(1)\n",
        "print('scalar: ', scalar)"
      ],
      "metadata": {
        "colab": {
          "base_uri": "https://localhost:8080/"
        },
        "id": "VBamDVH_YMIx",
        "outputId": "ad41dc3f-6365-41ce-afbf-8255d174b81b"
      },
      "execution_count": 33,
      "outputs": [
        {
          "output_type": "stream",
          "name": "stdout",
          "text": [
            "scalar:  tensor(1)\n"
          ]
        }
      ]
    },
    {
      "cell_type": "code",
      "source": [
        "# lets create 1D tensor\n",
        "vector=torch.tensor([1, 2, 3])\n",
        "print('vector: ', vector)\n",
        "\n",
        "# to find the dimension of the tensor use tensor.ndim\n",
        "print('''Note: you can calculate the dimension of tensor counting the \"[\" or \"]\" square\n",
        "bracket of the one side''')\n",
        "print('dimensions of vector: ', vector.ndim)\n",
        "print('Its 1D tensor so it called Vector')"
      ],
      "metadata": {
        "colab": {
          "base_uri": "https://localhost:8080/"
        },
        "id": "sVeaOwmoZPCe",
        "outputId": "c26abaf9-f5a8-4c05-8d69-26c2386bc350"
      },
      "execution_count": 21,
      "outputs": [
        {
          "output_type": "stream",
          "name": "stdout",
          "text": [
            "vector:  tensor([1, 2, 3])\n",
            "Note: you can calculate the dimension of tensor counting the \"[\" or \"]\" square \n",
            "bracket of the one side\n",
            "dimensions of vector:  1\n",
            "Its 1D tensor so it called Vector\n"
          ]
        }
      ]
    },
    {
      "cell_type": "code",
      "source": [
        "matrix =torch.tensor([[1, 2, 3, 4]])\n",
        "print('matrix: ', matrix)\n",
        "print('dimensions of vector: ', matrix.ndim)\n",
        "print('Its 1D tensor so it called matrix')"
      ],
      "metadata": {
        "colab": {
          "base_uri": "https://localhost:8080/"
        },
        "id": "-DgyfDXfZ3Kg",
        "outputId": "e49dde8f-a552-4392-e65c-2da874337f9a"
      },
      "execution_count": 14,
      "outputs": [
        {
          "output_type": "stream",
          "name": "stdout",
          "text": [
            "matrix:  tensor([[1, 2, 3, 4]])\n",
            "dimensions of vector:  2\n",
            "Its 1D tensor so it called matrix\n"
          ]
        }
      ]
    },
    {
      "cell_type": "code",
      "source": [
        "# to get the value from tensor use tensor.item() which will return the value\n",
        "scalar = torch.tensor(1)\n",
        "print('value from tensor: ', scalar.item())"
      ],
      "metadata": {
        "colab": {
          "base_uri": "https://localhost:8080/"
        },
        "id": "5sY-DWU9aWmT",
        "outputId": "6f3fe3a8-08dd-470d-9537-0ee06183174e"
      },
      "execution_count": 16,
      "outputs": [
        {
          "output_type": "stream",
          "name": "stdout",
          "text": [
            "value from tensor:  1\n"
          ]
        }
      ]
    },
    {
      "cell_type": "code",
      "source": [
        "# to get values from tensor vector\n",
        "for tensor in vector:\n",
        "  print('value from tensor: ', tensor.item())"
      ],
      "metadata": {
        "colab": {
          "base_uri": "https://localhost:8080/"
        },
        "id": "ILWw2ZP5a8QK",
        "outputId": "847ad5c1-856c-4944-d20f-dd4922090df9"
      },
      "execution_count": 19,
      "outputs": [
        {
          "output_type": "stream",
          "name": "stdout",
          "text": [
            "value from tensor:  1\n",
            "value from tensor:  2\n",
            "value from tensor:  3\n"
          ]
        }
      ]
    },
    {
      "cell_type": "code",
      "source": [
        "# to get how many values are present in the tensor\n",
        "tensor = torch.tensor([1])\n",
        "print('tensor: ', tensor, 'size of the tensor: ', tensor.size())\n",
        "print('vector: ', vector, 'size of the vector: ', vector.shape)\n",
        "# we can use size or shape both do same thing but size need be closed with paranthesis"
      ],
      "metadata": {
        "colab": {
          "base_uri": "https://localhost:8080/"
        },
        "id": "fR2zc9q8bTBK",
        "outputId": "9d17ded1-e653-40dc-ade1-df0a61f03e1a"
      },
      "execution_count": 32,
      "outputs": [
        {
          "output_type": "stream",
          "name": "stdout",
          "text": [
            "tensor:  tensor([1]) size of the tensor:  torch.Size([1])\n",
            "vector:  tensor([1, 2, 3]) size of the vector:  torch.Size([3])\n"
          ]
        }
      ]
    },
    {
      "cell_type": "code",
      "source": [
        "print('Note: if the tensor is > 2d is called tensor')"
      ],
      "metadata": {
        "colab": {
          "base_uri": "https://localhost:8080/"
        },
        "id": "IBu8MkSvcobO",
        "outputId": "021243cf-c0e4-41ad-b60e-80b35fdd3113"
      },
      "execution_count": 34,
      "outputs": [
        {
          "output_type": "stream",
          "name": "stdout",
          "text": [
            "Note: if the tensor is > 2d is called tensor\n"
          ]
        }
      ]
    },
    {
      "cell_type": "code",
      "source": [
        "'''creating a tensor with random values. its very often to create a tensor\n",
        "manual when creating a model usually we use random values'''\n",
        "# torch.rand return the tensor will random filled numbers\n",
        "rand_tensors = torch.rand(2)\n",
        "print('rand_tensors: ', rand_tensors)"
      ],
      "metadata": {
        "colab": {
          "base_uri": "https://localhost:8080/"
        },
        "id": "gJvT_nKGdmL-",
        "outputId": "979fda77-c3c5-4c7b-c065-3be187419087"
      },
      "execution_count": 35,
      "outputs": [
        {
          "output_type": "stream",
          "name": "stdout",
          "text": [
            "rand_tensors:  tensor([0.9202, 0.1971])\n"
          ]
        }
      ]
    },
    {
      "cell_type": "code",
      "source": [
        "# we can create the tensor with shape that we need torch.rand(size=())\n",
        "# creating the tensor with 2 rows and 3 columns\n",
        "_2_3_tensor = torch.rand((2, 3))\n",
        "print('2 rows and 3 columns tensor: ', _2_3_tensor)"
      ],
      "metadata": {
        "colab": {
          "base_uri": "https://localhost:8080/"
        },
        "id": "-h32XcmeeUGN",
        "outputId": "94411382-bebd-4f74-ca75-b2b10dec947b"
      },
      "execution_count": 41,
      "outputs": [
        {
          "output_type": "stream",
          "name": "stdout",
          "text": [
            "2 rows and 3 columns tensor:  tensor([[0.2719, 0.9197, 0.3398],\n",
            "        [0.9723, 0.7694, 0.0503]])\n"
          ]
        }
      ]
    },
    {
      "cell_type": "code",
      "source": [
        "# random image sized\n",
        "random_image = torch.rand(size=(1280, 720, 3))\n",
        "print(random_image)"
      ],
      "metadata": {
        "colab": {
          "base_uri": "https://localhost:8080/"
        },
        "id": "HrquljOneqkB",
        "outputId": "4805168a-8a60-4c8b-e375-311849a3d3d2"
      },
      "execution_count": 40,
      "outputs": [
        {
          "output_type": "stream",
          "name": "stdout",
          "text": [
            "tensor([[[0.0117, 0.0867, 0.3433],\n",
            "         [0.4819, 0.4395, 0.4887],\n",
            "         [0.3399, 0.9784, 0.7881],\n",
            "         ...,\n",
            "         [0.3955, 0.8954, 0.9424],\n",
            "         [0.4778, 0.3547, 0.9302],\n",
            "         [0.7318, 0.0243, 0.9700]],\n",
            "\n",
            "        [[0.0617, 0.0304, 0.4836],\n",
            "         [0.6675, 0.7091, 0.4458],\n",
            "         [0.7204, 0.5684, 0.1296],\n",
            "         ...,\n",
            "         [0.9440, 0.9599, 0.3686],\n",
            "         [0.9414, 0.6704, 0.2295],\n",
            "         [0.8684, 0.1070, 0.0970]],\n",
            "\n",
            "        [[0.8609, 0.6190, 0.1330],\n",
            "         [0.2957, 0.3594, 0.3136],\n",
            "         [0.8932, 0.6965, 0.9427],\n",
            "         ...,\n",
            "         [0.1303, 0.2477, 0.1236],\n",
            "         [0.6110, 0.9043, 0.9244],\n",
            "         [0.4428, 0.7403, 0.1721]],\n",
            "\n",
            "        ...,\n",
            "\n",
            "        [[0.7486, 0.2008, 0.2631],\n",
            "         [0.8121, 0.3116, 0.4814],\n",
            "         [0.1623, 0.8300, 0.2844],\n",
            "         ...,\n",
            "         [0.1641, 0.0646, 0.8674],\n",
            "         [0.5891, 0.0935, 0.5653],\n",
            "         [0.8541, 0.1128, 0.5970]],\n",
            "\n",
            "        [[0.4608, 0.6186, 0.5306],\n",
            "         [0.6860, 0.1471, 0.3376],\n",
            "         [0.5079, 0.4093, 0.8054],\n",
            "         ...,\n",
            "         [0.1166, 0.8792, 0.7661],\n",
            "         [0.4030, 0.3506, 0.1126],\n",
            "         [0.3925, 0.5889, 0.2920]],\n",
            "\n",
            "        [[0.1439, 0.0158, 0.3084],\n",
            "         [0.9560, 0.6706, 0.1545],\n",
            "         [0.0073, 0.0847, 0.1755],\n",
            "         ...,\n",
            "         [0.5714, 0.5586, 0.2411],\n",
            "         [0.6137, 0.3880, 0.6614],\n",
            "         [0.4989, 0.0429, 0.6813]]])\n"
          ]
        }
      ]
    },
    {
      "cell_type": "code",
      "source": [
        "print('size fo the random sized image: ', random_image.shape)"
      ],
      "metadata": {
        "colab": {
          "base_uri": "https://localhost:8080/"
        },
        "id": "Hyw3cgadedRt",
        "outputId": "68ddaaab-cced-4cb4-dd73-a244356a9e18"
      },
      "execution_count": 42,
      "outputs": [
        {
          "output_type": "stream",
          "name": "stdout",
          "text": [
            "size fo the random sized image:  torch.Size([1280, 720, 3])\n"
          ]
        }
      ]
    },
    {
      "cell_type": "code",
      "source": [
        "# Few more methods to create a tensors\n",
        "# creating a tensor will ones using torch.ones\n",
        "ones_tensor = torch.ones(2)\n",
        "print('tensor with ones: ', ones_tensor)"
      ],
      "metadata": {
        "colab": {
          "base_uri": "https://localhost:8080/"
        },
        "id": "0N590mEpfUe5",
        "outputId": "b3fb309a-54f1-4afe-e7c8-1de5c8506430"
      },
      "execution_count": 43,
      "outputs": [
        {
          "output_type": "stream",
          "name": "stdout",
          "text": [
            "tensor with ones:  tensor([1., 1.])\n"
          ]
        }
      ]
    },
    {
      "cell_type": "code",
      "source": [
        "# creating with 4 5  tensor\n",
        "_4_5_ones_tensor = torch.ones(size=(4, 5))\n",
        "print('4 rows and 5 columns tensor with ones: ', _4_5_ones_tensor)"
      ],
      "metadata": {
        "colab": {
          "base_uri": "https://localhost:8080/"
        },
        "id": "sksA1y1SfoSM",
        "outputId": "40850551-bd78-4a0f-8380-a6f22eeca0c5"
      },
      "execution_count": 46,
      "outputs": [
        {
          "output_type": "stream",
          "name": "stdout",
          "text": [
            "4 rows and 5 columns tensor with ones:  tensor([[1., 1., 1., 1., 1.],\n",
            "        [1., 1., 1., 1., 1.],\n",
            "        [1., 1., 1., 1., 1.],\n",
            "        [1., 1., 1., 1., 1.]])\n"
          ]
        }
      ]
    },
    {
      "cell_type": "code",
      "source": [
        "# to creat a tensor with zero torch.zeros() same like ones"
      ],
      "metadata": {
        "id": "UNnSuMcZf93d"
      },
      "execution_count": 47,
      "outputs": []
    },
    {
      "cell_type": "code",
      "source": [
        "'''lets say we want to create a tensor with valuse from 1 to 100,\n",
        "Entering manually is time taking just like python range we arange\n",
        "in torch to tackle this type problems'''\n",
        "_1_to_100_tensor = torch.arange(1, 100)\n",
        "print('A vector with 1 to 99 values end-1: ', _1_to_100_tensor)"
      ],
      "metadata": {
        "colab": {
          "base_uri": "https://localhost:8080/"
        },
        "id": "Rcrkn_YMgFSS",
        "outputId": "b4b16719-4292-4cc2-da9b-472d8c31a950"
      },
      "execution_count": 48,
      "outputs": [
        {
          "output_type": "stream",
          "name": "stdout",
          "text": [
            "A vector with 1 to 99 values end-1:  tensor([ 1,  2,  3,  4,  5,  6,  7,  8,  9, 10, 11, 12, 13, 14, 15, 16, 17, 18,\n",
            "        19, 20, 21, 22, 23, 24, 25, 26, 27, 28, 29, 30, 31, 32, 33, 34, 35, 36,\n",
            "        37, 38, 39, 40, 41, 42, 43, 44, 45, 46, 47, 48, 49, 50, 51, 52, 53, 54,\n",
            "        55, 56, 57, 58, 59, 60, 61, 62, 63, 64, 65, 66, 67, 68, 69, 70, 71, 72,\n",
            "        73, 74, 75, 76, 77, 78, 79, 80, 81, 82, 83, 84, 85, 86, 87, 88, 89, 90,\n",
            "        91, 92, 93, 94, 95, 96, 97, 98, 99])\n"
          ]
        }
      ]
    },
    {
      "cell_type": "code",
      "source": [
        "'''\n",
        "to create a tensor with input tensor like if you pass the tensor it will return the tensor\n",
        "filled with zero or ones using zeros_like or ones_like function\n",
        "'''\n",
        "# lets convert _1_to_100_tensor to zeros and ones tensor\n",
        "_0_tensor = torch.zeros_like(_1_to_100_tensor)\n",
        "_1_tensor = torch.ones_like(_1_to_100_tensor)\n",
        "print('0 tensor: ', _0_tensor)\n",
        "print('1 tensor: ', _1_tensor)"
      ],
      "metadata": {
        "colab": {
          "base_uri": "https://localhost:8080/"
        },
        "id": "enUg5NH0gpOv",
        "outputId": "e83ef08f-ee33-4213-e90f-9e41f7c9188d"
      },
      "execution_count": 50,
      "outputs": [
        {
          "output_type": "stream",
          "name": "stdout",
          "text": [
            "0 tensor:  tensor([0, 0, 0, 0, 0, 0, 0, 0, 0, 0, 0, 0, 0, 0, 0, 0, 0, 0, 0, 0, 0, 0, 0, 0,\n",
            "        0, 0, 0, 0, 0, 0, 0, 0, 0, 0, 0, 0, 0, 0, 0, 0, 0, 0, 0, 0, 0, 0, 0, 0,\n",
            "        0, 0, 0, 0, 0, 0, 0, 0, 0, 0, 0, 0, 0, 0, 0, 0, 0, 0, 0, 0, 0, 0, 0, 0,\n",
            "        0, 0, 0, 0, 0, 0, 0, 0, 0, 0, 0, 0, 0, 0, 0, 0, 0, 0, 0, 0, 0, 0, 0, 0,\n",
            "        0, 0, 0])\n",
            "1 tensor:  tensor([1, 1, 1, 1, 1, 1, 1, 1, 1, 1, 1, 1, 1, 1, 1, 1, 1, 1, 1, 1, 1, 1, 1, 1,\n",
            "        1, 1, 1, 1, 1, 1, 1, 1, 1, 1, 1, 1, 1, 1, 1, 1, 1, 1, 1, 1, 1, 1, 1, 1,\n",
            "        1, 1, 1, 1, 1, 1, 1, 1, 1, 1, 1, 1, 1, 1, 1, 1, 1, 1, 1, 1, 1, 1, 1, 1,\n",
            "        1, 1, 1, 1, 1, 1, 1, 1, 1, 1, 1, 1, 1, 1, 1, 1, 1, 1, 1, 1, 1, 1, 1, 1,\n",
            "        1, 1, 1])\n"
          ]
        }
      ]
    },
    {
      "cell_type": "code",
      "source": [
        "# getting some information from tensor\n",
        "print('shape of the tensor: ', _0_tensor.shape)\n",
        "print('data type of the tensor: ', _0_tensor.dtype)\n",
        "print('device the tensor running: ', _0_tensor.device)"
      ],
      "metadata": {
        "colab": {
          "base_uri": "https://localhost:8080/"
        },
        "id": "_MoSz_yMhjrL",
        "outputId": "8a2fcbd5-1bc5-4a7e-f211-e7a5ce0075d5"
      },
      "execution_count": 51,
      "outputs": [
        {
          "output_type": "stream",
          "name": "stdout",
          "text": [
            "shape of the tensor:  torch.Size([99])\n",
            "data type of the tensor:  torch.int64\n",
            "device the tensor running:  cpu\n"
          ]
        }
      ]
    },
    {
      "cell_type": "code",
      "source": [],
      "metadata": {
        "id": "4wNVbNPCiBZ9"
      },
      "execution_count": null,
      "outputs": []
    }
  ]
}