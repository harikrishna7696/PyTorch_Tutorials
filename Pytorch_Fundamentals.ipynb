{
  "nbformat": 4,
  "nbformat_minor": 0,
  "metadata": {
    "colab": {
      "provenance": []
    },
    "kernelspec": {
      "name": "python3",
      "display_name": "Python 3"
    },
    "language_info": {
      "name": "python"
    }
  },
  "cells": [
    {
      "cell_type": "markdown",
      "source": [
        "Are you **curious to learn PyTorch**, So do follow on **github** to get tutorials"
      ],
      "metadata": {
        "id": "R2eAufeuWhuC"
      }
    },
    {
      "cell_type": "code",
      "source": [
        "# lets import pytorch\n",
        "# Colab has pre-installed deep leaning libraries like torch, tensorflow, numpy etc.\n",
        "# If the library is not pre-installed in collab, use: !pip install library_name\n",
        "import torch\n",
        "print(\"Torch Version: \", torch.__version__)"
      ],
      "metadata": {
        "colab": {
          "base_uri": "https://localhost:8080/"
        },
        "id": "TRwzRS7xWdzR",
        "outputId": "a70b8d2c-3fee-4fce-d865-0a8b4bdea6ef"
      },
      "execution_count": 1,
      "outputs": [
        {
          "output_type": "stream",
          "name": "stdout",
          "text": [
            "Torch Version:  2.2.1+cu121\n"
          ]
        }
      ]
    },
    {
      "cell_type": "code",
      "source": [
        "print(\"Torch install with cuda extensin: version+cuversion, which is utilize the GPU which will help to run code very fast on GPU(Graphics Processing Unit)\")"
      ],
      "metadata": {
        "colab": {
          "base_uri": "https://localhost:8080/"
        },
        "id": "HCaF0dW2XY6B",
        "outputId": "1d9821ed-0e0b-48a7-b23e-259851d087c2"
      },
      "execution_count": 2,
      "outputs": [
        {
          "output_type": "stream",
          "name": "stdout",
          "text": [
            "Torch install with cuda extensin: version+cuversion, which is utilize the GPU which will help to run code very fast on GPU(Graphics Processing Unit)\n"
          ]
        }
      ]
    },
    {
      "cell_type": "markdown",
      "source": [
        "# **Introduction to tensors**\n",
        "Tensors are very **essential to deep learning**. as they used to **represent the input and ouput of neural networks**. Tensors also **stored weights and biases of the neural network**.\n",
        "\n",
        "You can create tensors from **0 to N dimensions** and it can easily **manipulate the tensors**.\n",
        "\n",
        "To create a tensor use: **torch.tensor(value)**\n",
        "\n",
        "To read more torch.tensor:https://pytorch.org/docs/stable/tensors.html\n",
        "\n",
        "\n",
        "**Scalar:** Scalars are single numbers"
      ],
      "metadata": {
        "id": "f2iA3MmEX53O"
      }
    },
    {
      "cell_type": "code",
      "source": [
        "# lets create a 0 dim tensor using torch\n",
        "\n",
        "scalar = torch.tensor(76)\n",
        "print(\"Tensor: \", scalar)"
      ],
      "metadata": {
        "colab": {
          "base_uri": "https://localhost:8080/"
        },
        "id": "AZdkOdHBZD7M",
        "outputId": "85740f32-fa06-43ff-a194-246a5155ed6f"
      },
      "execution_count": 3,
      "outputs": [
        {
          "output_type": "stream",
          "name": "stdout",
          "text": [
            "Tensor:  tensor(76)\n"
          ]
        }
      ]
    },
    {
      "cell_type": "code",
      "source": [
        "# so lets find out the information about tensor\n",
        "print(\"tensor shape: \", scalar.shape)\n",
        "print(\"tensor dimension: \", scalar.ndim) # it contain 0 dimension because only we give one value"
      ],
      "metadata": {
        "colab": {
          "base_uri": "https://localhost:8080/"
        },
        "id": "pvwLKETYZRpe",
        "outputId": "49d32deb-629a-40f4-9364-12d24e1fa012"
      },
      "execution_count": 4,
      "outputs": [
        {
          "output_type": "stream",
          "name": "stdout",
          "text": [
            "tensor shape:  torch.Size([])\n",
            "tensor dimension:  0\n"
          ]
        }
      ]
    },
    {
      "cell_type": "code",
      "source": [
        "# so lets do some mathematical operaions\n",
        "print(\"Adding a number to tensor: \", scalar+10)\n",
        "print(\"subtract a number to tensor: \", scalar-10)\n",
        "print(\"multiplying a number to tensor: \", scalar*10)\n",
        "print(\"dividing a number to tensor: \", scalar/10)"
      ],
      "metadata": {
        "colab": {
          "base_uri": "https://localhost:8080/"
        },
        "id": "OPAXw1f6aTbI",
        "outputId": "6c68eda7-dd5a-4e88-d50b-af724a6fa811"
      },
      "execution_count": 5,
      "outputs": [
        {
          "output_type": "stream",
          "name": "stdout",
          "text": [
            "Adding a number to tensor:  tensor(86)\n",
            "subtract a number to tensor:  tensor(66)\n",
            "multiplying a number to tensor:  tensor(760)\n",
            "dividing a number to tensor:  tensor(7.6000)\n"
          ]
        }
      ]
    },
    {
      "cell_type": "code",
      "source": [
        "# when you print the tensor, you get tensor(value), to get only value need to use .item()\n",
        "print(\"Getting the only value from tensor: \", scalar.item())"
      ],
      "metadata": {
        "colab": {
          "base_uri": "https://localhost:8080/"
        },
        "id": "nZLr_qq2a1eJ",
        "outputId": "42d6aa87-17e2-461b-96a1-54ddb139e806"
      },
      "execution_count": 6,
      "outputs": [
        {
          "output_type": "stream",
          "name": "stdout",
          "text": [
            "Getting the only value from tensor:  76\n"
          ]
        }
      ]
    },
    {
      "cell_type": "code",
      "source": [
        "# To is tensor running on CPU or GPU use\n",
        "print(\"Is tensor running on gpu/cpu: \", scalar.device)"
      ],
      "metadata": {
        "colab": {
          "base_uri": "https://localhost:8080/"
        },
        "id": "wANhwBCIbFsG",
        "outputId": "1d70f272-b315-4ffd-cee8-013c931a996e"
      },
      "execution_count": 7,
      "outputs": [
        {
          "output_type": "stream",
          "name": "stdout",
          "text": [
            "Is tensor running on gpu/cpu:  cpu\n"
          ]
        }
      ]
    },
    {
      "cell_type": "markdown",
      "source": [
        "# **vector**\n",
        "A vector is often **represented as a 1-dimensional array of numbers**, referred to as components and is **displayed either in column form or row form**. Represented geometrically, vectors typically **represent coordinates within a n-dimensional space**, where n is the number of dimensions..\n"
      ],
      "metadata": {
        "id": "XIsleCV-cFgR"
      }
    },
    {
      "cell_type": "code",
      "source": [
        "# lets create the vector using torch.tensor\n",
        "vector = torch.tensor([1, 2, 3, 4])\n",
        "print(\"vector: \", vector)\n",
        "print(\"vector shape/size: \", vector.shape)\n",
        "print(\"vector dimensions: \", vector.dim()) # the dimension of the vector is 1"
      ],
      "metadata": {
        "colab": {
          "base_uri": "https://localhost:8080/"
        },
        "id": "O9D2Mz-HcbvB",
        "outputId": "a1dffe8e-914c-4667-9a01-4a510450a621"
      },
      "execution_count": 8,
      "outputs": [
        {
          "output_type": "stream",
          "name": "stdout",
          "text": [
            "vector:  tensor([1, 2, 3, 4])\n",
            "vector shape/size:  torch.Size([4])\n",
            "vector dimensions:  1\n"
          ]
        }
      ]
    },
    {
      "cell_type": "code",
      "source": [
        "# same like the scalar we can do mathematical opertions on the vector\n",
        "print(\"Befor adding the number to vector: \", vector)\n",
        "print(\"Adding a number to vector: \", vector+10)\n",
        "print(\"After adding the number to vector: \", vector)"
      ],
      "metadata": {
        "colab": {
          "base_uri": "https://localhost:8080/"
        },
        "id": "juXUMgsGc_Xj",
        "outputId": "cf72a6f5-3c45-4151-9861-e4a787cb2f3c"
      },
      "execution_count": 9,
      "outputs": [
        {
          "output_type": "stream",
          "name": "stdout",
          "text": [
            "Befor adding the number to vector:  tensor([1, 2, 3, 4])\n",
            "Adding a number to vector:  tensor([11, 12, 13, 14])\n",
            "After adding the number to vector:  tensor([1, 2, 3, 4])\n"
          ]
        }
      ]
    },
    {
      "cell_type": "code",
      "source": [
        "# you have observed in above output if we give a single number do addition it added number to every tensor in the vector\n",
        "# ex: intitial list: [1, 2, 3, 4] addition happen like this: [1+10, 2+10, 3+10, 4+10] final output: [11, 12, 13, 14]"
      ],
      "metadata": {
        "id": "1v9HwDnod2qA"
      },
      "execution_count": 10,
      "outputs": []
    },
    {
      "cell_type": "markdown",
      "source": [
        "# **matix**\n",
        " A matrix is a **rectangular array of numbers** that can be seen as a **2nd-order tensor**. Matrices are used in machine learning to describe algorithms and processes, such as model training data.\n"
      ],
      "metadata": {
        "id": "BmfysdP1etdD"
      }
    },
    {
      "cell_type": "code",
      "source": [
        "# lets create the matrix.\n",
        "mat = torch.tensor([[1, 2],\n",
        "                    [2, 3]])\n",
        "print(\"Matrix: \", mat)"
      ],
      "metadata": {
        "colab": {
          "base_uri": "https://localhost:8080/"
        },
        "id": "hee5do1je-lo",
        "outputId": "abcbf13e-9304-4bfc-8ae6-06ecb69b7791"
      },
      "execution_count": 11,
      "outputs": [
        {
          "output_type": "stream",
          "name": "stdout",
          "text": [
            "Matrix:  tensor([[1, 2],\n",
            "        [2, 3]])\n"
          ]
        }
      ]
    },
    {
      "cell_type": "code",
      "source": [
        "# all the operations that we applied for scalar and vector same we can apply to metrics"
      ],
      "metadata": {
        "id": "bOfhp6CifI4F"
      },
      "execution_count": 12,
      "outputs": []
    },
    {
      "cell_type": "code",
      "source": [
        "print(\"The dimenions of the matrix: \", mat.ndim) # matrix contains 2 dimensions only"
      ],
      "metadata": {
        "colab": {
          "base_uri": "https://localhost:8080/"
        },
        "id": "LCEcDY8BfTJu",
        "outputId": "df137cd3-731a-400a-e204-5e57b7f0d3ca"
      },
      "execution_count": 13,
      "outputs": [
        {
          "output_type": "stream",
          "name": "stdout",
          "text": [
            "The dimenions of the matrix:  2\n"
          ]
        }
      ]
    },
    {
      "cell_type": "markdown",
      "source": [
        "# **Tensor**\n",
        "\n",
        "  A tensor is **simply an n-dimensional array of numbers**. For example,** a vector is a one-dimensional tensor, a matrix is a two-dimensional tensor**, and **an image is a three-dimensional tensor (width, height, and depth)**.\n"
      ],
      "metadata": {
        "id": "Q60EcjGufpfu"
      }
    },
    {
      "cell_type": "code",
      "source": [
        "# lets create a tensor which conatians 2 or more dimension\n",
        "tensor = torch.tensor([[[[1, 2, 3],\n",
        "                       [4, 5, 6],\n",
        "                       [7, 8, 9],\n",
        "                       [10, 11, 12]]]])"
      ],
      "metadata": {
        "id": "_nzRIe3Jfyzv"
      },
      "execution_count": 14,
      "outputs": []
    },
    {
      "cell_type": "code",
      "source": [
        "print(\"tensor: \", tensor)"
      ],
      "metadata": {
        "colab": {
          "base_uri": "https://localhost:8080/"
        },
        "id": "kL9l-ph_gDZd",
        "outputId": "181b4054-8e07-4303-8b91-b35047017964"
      },
      "execution_count": 15,
      "outputs": [
        {
          "output_type": "stream",
          "name": "stdout",
          "text": [
            "tensor:  tensor([[[[ 1,  2,  3],\n",
            "          [ 4,  5,  6],\n",
            "          [ 7,  8,  9],\n",
            "          [10, 11, 12]]]])\n"
          ]
        }
      ]
    },
    {
      "cell_type": "code",
      "source": [
        "print(\"dimensions of the tensor: \", tensor.ndim) # this is the tensor"
      ],
      "metadata": {
        "colab": {
          "base_uri": "https://localhost:8080/"
        },
        "id": "39C80P82gI3A",
        "outputId": "cde8a4c7-a05e-4696-b582-320d7712c7cd"
      },
      "execution_count": 16,
      "outputs": [
        {
          "output_type": "stream",
          "name": "stdout",
          "text": [
            "dimensions of the tensor:  4\n"
          ]
        }
      ]
    },
    {
      "cell_type": "code",
      "source": [
        "# lets create a random tensors using the torch\n",
        "# torch.rand()\n",
        "rand1 = torch.rand(1)\n",
        "print(\"random scalar: \", rand1)"
      ],
      "metadata": {
        "id": "PT6vhIp8gOD_",
        "colab": {
          "base_uri": "https://localhost:8080/"
        },
        "outputId": "9e91585f-7f44-4120-b610-c9f0a92fb0af"
      },
      "execution_count": 17,
      "outputs": [
        {
          "output_type": "stream",
          "name": "stdout",
          "text": [
            "random scalar:  tensor([0.2963])\n"
          ]
        }
      ]
    },
    {
      "cell_type": "code",
      "source": [
        "# we can create a matrix of random numbers, with size attribute\n",
        "rand2 = torch.rand(size=(4, 5))\n",
        "print(\"Create a random matrix with 4 rows 5 columns: \", rand2)\n",
        "rand2.ndim"
      ],
      "metadata": {
        "colab": {
          "base_uri": "https://localhost:8080/"
        },
        "id": "pdVpgoOasOJg",
        "outputId": "1309c2f9-2f92-493b-d69c-90dd0a2c0e4b"
      },
      "execution_count": 18,
      "outputs": [
        {
          "output_type": "stream",
          "name": "stdout",
          "text": [
            "Create a random matrix with 4 rows 5 columns:  tensor([[0.7711, 0.1618, 0.2463, 0.1109, 0.8720],\n",
            "        [0.4928, 0.1718, 0.7001, 0.0595, 0.0855],\n",
            "        [0.6345, 0.1067, 0.1218, 0.6708, 0.8461],\n",
            "        [0.8406, 0.4856, 0.6570, 0.7901, 0.7765]])\n"
          ]
        },
        {
          "output_type": "execute_result",
          "data": {
            "text/plain": [
              "2"
            ]
          },
          "metadata": {},
          "execution_count": 18
        }
      ]
    },
    {
      "cell_type": "code",
      "source": [
        "# even though we can create tensor with n dimensions\n",
        "rand3 = torch.rand(size=(4, 5, 3)) # (row, columns, dimension)\n",
        "print(\"created a tensor with 4 dimension: \", rand3)\n",
        "print(\"dimension of the tensor: \", rand3.ndim)"
      ],
      "metadata": {
        "colab": {
          "base_uri": "https://localhost:8080/"
        },
        "id": "VYf32d9Asgq-",
        "outputId": "6bb070e1-2211-4bfb-bfa2-8f05e9c5ff02"
      },
      "execution_count": 19,
      "outputs": [
        {
          "output_type": "stream",
          "name": "stdout",
          "text": [
            "created a tensor with 4 dimension:  tensor([[[0.6876, 0.9221, 0.7375],\n",
            "         [0.9190, 0.5642, 0.3068],\n",
            "         [0.2926, 0.5942, 0.6783],\n",
            "         [0.3401, 0.6270, 0.5174],\n",
            "         [0.2083, 0.2803, 0.2670]],\n",
            "\n",
            "        [[0.8121, 0.2365, 0.0846],\n",
            "         [0.0380, 0.9228, 0.3540],\n",
            "         [0.4843, 0.0868, 0.5216],\n",
            "         [0.5261, 0.9639, 0.0904],\n",
            "         [0.8936, 0.5533, 0.9252]],\n",
            "\n",
            "        [[0.6638, 0.1206, 0.5035],\n",
            "         [0.6032, 0.1667, 0.3040],\n",
            "         [0.7297, 0.7637, 0.2831],\n",
            "         [0.9815, 0.5014, 0.3988],\n",
            "         [0.6251, 0.0849, 0.5576]],\n",
            "\n",
            "        [[0.5429, 0.4951, 0.1520],\n",
            "         [0.9111, 0.0516, 0.2036],\n",
            "         [0.8509, 0.3861, 0.0381],\n",
            "         [0.2754, 0.2675, 0.5463],\n",
            "         [0.4728, 0.9920, 0.2451]]])\n",
            "dimension of the tensor:  3\n"
          ]
        }
      ]
    },
    {
      "cell_type": "code",
      "source": [
        "# we can create the zeros and ones scalar, vetor, metrics and tensor\n",
        "# lets start with create zeros\n",
        "zeros_scalar = torch.zeros(1)\n",
        "zeros_vector = torch.zeros(size=(5, ))\n",
        "zeros_matrix = torch.zeros(size=(5, 1))\n",
        "print(\"zeros_scalar: \", zeros_scalar, \"size: \", zeros_scalar.ndim)\n",
        "print(\"zeros_vector: \", zeros_vector, \"size: \", zeros_vector.ndim)\n",
        "print(\"zeros_matrix: \", zeros_matrix, \"size: \", zeros_matrix.ndim)"
      ],
      "metadata": {
        "colab": {
          "base_uri": "https://localhost:8080/"
        },
        "id": "Uz7HIBP-tSU5",
        "outputId": "70300b7f-fcd7-446f-edf5-47d3571b9b08"
      },
      "execution_count": 20,
      "outputs": [
        {
          "output_type": "stream",
          "name": "stdout",
          "text": [
            "zeros_scalar:  tensor([0.]) size:  1\n",
            "zeros_vector:  tensor([0., 0., 0., 0., 0.]) size:  1\n",
            "zeros_matrix:  tensor([[0.],\n",
            "        [0.],\n",
            "        [0.],\n",
            "        [0.],\n",
            "        [0.]]) size:  2\n"
          ]
        }
      ]
    },
    {
      "cell_type": "code",
      "source": [
        "ones_scalar = torch.ones(1)\n",
        "ones_vector = torch.ones(size=(5, ))\n",
        "ones_matrix = torch.ones(size=(5, 1))\n",
        "print(\"ones_scalar: \", ones_scalar, \"size: \", ones_scalar.ndim)\n",
        "print(\"ones_vector: \", ones_vector, \"size: \", ones_vector.ndim)\n",
        "print(\"ones_matrix: \", ones_matrix, \"size: \", ones_matrix.ndim)"
      ],
      "metadata": {
        "colab": {
          "base_uri": "https://localhost:8080/"
        },
        "id": "IYAB5_BDue8w",
        "outputId": "e2f836e3-3468-4c2d-fada-46d1a1fc2ec8"
      },
      "execution_count": 21,
      "outputs": [
        {
          "output_type": "stream",
          "name": "stdout",
          "text": [
            "ones_scalar:  tensor([1.]) size:  1\n",
            "ones_vector:  tensor([1., 1., 1., 1., 1.]) size:  1\n",
            "ones_matrix:  tensor([[1.],\n",
            "        [1.],\n",
            "        [1.],\n",
            "        [1.],\n",
            "        [1.]]) size:  2\n"
          ]
        }
      ]
    },
    {
      "cell_type": "code",
      "source": [
        "# just like python range function to create a list of values, torch also contains the arange function to create multiple value in single go.\n",
        "vector_arange = torch.arange(1, 10)\n",
        "print(\"vector_arange: \", vector_arange)"
      ],
      "metadata": {
        "colab": {
          "base_uri": "https://localhost:8080/"
        },
        "id": "JxPFiEFZwNLW",
        "outputId": "0963b1c5-72b3-416b-e1d0-03faac35bac2"
      },
      "execution_count": 24,
      "outputs": [
        {
          "output_type": "stream",
          "name": "stdout",
          "text": [
            "vector_arange:  tensor([1, 2, 3, 4, 5, 6, 7, 8, 9])\n"
          ]
        }
      ]
    }
  ]
}