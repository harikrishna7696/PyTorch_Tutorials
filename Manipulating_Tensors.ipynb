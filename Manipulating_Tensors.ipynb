{
  "nbformat": 4,
  "nbformat_minor": 0,
  "metadata": {
    "colab": {
      "provenance": []
    },
    "kernelspec": {
      "name": "python3",
      "display_name": "Python 3"
    },
    "language_info": {
      "name": "python"
    }
  },
  "cells": [
    {
      "cell_type": "markdown",
      "source": [
        "In Deep learning , data will be (image, audio,video, text etc) data will present in a tensor.\n",
        "\n",
        "A lot's of operations will happen on tensor to represent a patter from the\n",
        "input data.\n",
        "\n",
        "so lets see some manipulation techniques using torch."
      ],
      "metadata": {
        "id": "3fg9i3aE0xME"
      }
    },
    {
      "cell_type": "code",
      "source": [
        "import torch\n",
        "print(torch.__version__)"
      ],
      "metadata": {
        "colab": {
          "base_uri": "https://localhost:8080/"
        },
        "id": "sWunPocG1GyB",
        "outputId": "e907971e-78c1-47fc-8c75-c492f1b6ee52"
      },
      "execution_count": 1,
      "outputs": [
        {
          "output_type": "stream",
          "name": "stdout",
          "text": [
            "2.2.1+cu121\n"
          ]
        }
      ]
    },
    {
      "cell_type": "code",
      "source": [
        "# addition\n",
        "# element wise addition\n",
        "tensor = torch.Tensor([1, 5, 7, 10, 11])\n",
        "print(\"tensor: \", tensor)"
      ],
      "metadata": {
        "colab": {
          "base_uri": "https://localhost:8080/"
        },
        "id": "tuyUIbtV1Xrw",
        "outputId": "acab4506-6ce3-40d2-961e-25cc5a959c46"
      },
      "execution_count": 2,
      "outputs": [
        {
          "output_type": "stream",
          "name": "stdout",
          "text": [
            "tensor:  tensor([ 1.,  5.,  7., 10., 11.])\n"
          ]
        }
      ]
    },
    {
      "cell_type": "code",
      "source": [
        "print(\"Before adding the value to tensor: \", tensor)\n",
        "print(\"after adding a element to the tensor: \", tensor + 10)\n",
        "print(\"tensor: \", tensor)"
      ],
      "metadata": {
        "colab": {
          "base_uri": "https://localhost:8080/"
        },
        "id": "6tD8lrvG1SWZ",
        "outputId": "cde39230-0303-45c4-fab0-bf18e71f170a"
      },
      "execution_count": 3,
      "outputs": [
        {
          "output_type": "stream",
          "name": "stdout",
          "text": [
            "Before adding the value to tensor:  tensor([ 1.,  5.,  7., 10., 11.])\n",
            "after adding a element to the tensor:  tensor([11., 15., 17., 20., 21.])\n",
            "tensor:  tensor([ 1.,  5.,  7., 10., 11.])\n"
          ]
        }
      ]
    },
    {
      "cell_type": "code",
      "source": [
        "\"\"\"\n",
        "Have you observed the last output of the tensor is till same. because the will added the value\n",
        "but we didn't assign to the variable.\n",
        "\"\"\"\n",
        "tensor = tensor + 10\n",
        "print(\"tensor: \", tensor)"
      ],
      "metadata": {
        "colab": {
          "base_uri": "https://localhost:8080/"
        },
        "id": "eWa4DcZ62Dps",
        "outputId": "1c1bbb2e-d7d8-4fcf-d507-c7ccfa0793a5"
      },
      "execution_count": 4,
      "outputs": [
        {
          "output_type": "stream",
          "name": "stdout",
          "text": [
            "tensor:  tensor([11., 15., 17., 20., 21.])\n"
          ]
        }
      ]
    },
    {
      "cell_type": "code",
      "source": [
        "# subtraction\n",
        "print(\"Before adding the value to tensor: \", tensor)\n",
        "print(\"after adding a element to the tensor: \", tensor - 10)\n",
        "tensor = tensor - 10\n",
        "print(\"tensor: \", tensor)"
      ],
      "metadata": {
        "colab": {
          "base_uri": "https://localhost:8080/"
        },
        "id": "6KAXlJXE2c-R",
        "outputId": "65229850-2967-4b9b-a619-f8ae83ba48d6"
      },
      "execution_count": 5,
      "outputs": [
        {
          "output_type": "stream",
          "name": "stdout",
          "text": [
            "Before adding the value to tensor:  tensor([11., 15., 17., 20., 21.])\n",
            "after adding a element to the tensor:  tensor([ 1.,  5.,  7., 10., 11.])\n",
            "tensor:  tensor([ 1.,  5.,  7., 10., 11.])\n"
          ]
        }
      ]
    },
    {
      "cell_type": "code",
      "source": [
        "# multiplication\n",
        "print(\"Before adding the value to tensor: \", tensor)\n",
        "print(\"after adding a element to the tensor: \", tensor * 10)\n",
        "tensor = tensor * 10\n",
        "print(\"tensor: \", tensor)"
      ],
      "metadata": {
        "colab": {
          "base_uri": "https://localhost:8080/"
        },
        "id": "7Gl2fzDD2ryS",
        "outputId": "f88457cc-7ce7-4ee0-854a-7e1734781164"
      },
      "execution_count": 6,
      "outputs": [
        {
          "output_type": "stream",
          "name": "stdout",
          "text": [
            "Before adding the value to tensor:  tensor([ 1.,  5.,  7., 10., 11.])\n",
            "after adding a element to the tensor:  tensor([ 10.,  50.,  70., 100., 110.])\n",
            "tensor:  tensor([ 10.,  50.,  70., 100., 110.])\n"
          ]
        }
      ]
    },
    {
      "cell_type": "code",
      "source": [
        "# the most important operation, matrix multiplication\n",
        "# One of the most common operations in machine learning and deep learning algorithms (like neural networks) is matrix multiplication.\n",
        "# there are different type of function to do matrix multiplication\n",
        "\n",
        "# 1) torch.matmul(): https://pytorch.org/docs/stable/generated/torch.matmul.html\n",
        "\n",
        "tensor_a = torch.Tensor([[1 , 2, 3],\n",
        "                         [4, 5, 6],\n",
        "                         [8, 7, 9]])\n",
        "tensor_b = torch.Tensor([[1 , 2, 3],\n",
        "                         [4, 5, 6],\n",
        "                         [8, 7, 9]])\n",
        "print(\"tensor_a: \", tensor_a)\n",
        "print()\n",
        "print(\"tensor_b: \", tensor_b)"
      ],
      "metadata": {
        "colab": {
          "base_uri": "https://localhost:8080/"
        },
        "id": "tPpbxchO2zRj",
        "outputId": "39744ffc-0996-402c-cc8c-d6a1281c413d"
      },
      "execution_count": 7,
      "outputs": [
        {
          "output_type": "stream",
          "name": "stdout",
          "text": [
            "tensor_a:  tensor([[1., 2., 3.],\n",
            "        [4., 5., 6.],\n",
            "        [8., 7., 9.]])\n",
            "\n",
            "tensor_b:  tensor([[1., 2., 3.],\n",
            "        [4., 5., 6.],\n",
            "        [8., 7., 9.]])\n"
          ]
        }
      ]
    },
    {
      "cell_type": "code",
      "source": [
        "# lets check the shape of the matrices\n",
        "print(\"tensor_a shape: \", tensor_a.shape, \"tensor_b: \", tensor_b.shape)"
      ],
      "metadata": {
        "colab": {
          "base_uri": "https://localhost:8080/"
        },
        "id": "b_qqg6WG4xCa",
        "outputId": "f3ac3938-0895-4ef5-d30f-8b97b1fc3216"
      },
      "execution_count": 8,
      "outputs": [
        {
          "output_type": "stream",
          "name": "stdout",
          "text": [
            "tensor_a shape:  torch.Size([3, 3]) tensor_b:  torch.Size([3, 3])\n"
          ]
        }
      ]
    },
    {
      "cell_type": "code",
      "source": [
        "# the shape are the same if we do the matmult we won't get any issues\n",
        "torch.matmul(tensor_a, tensor_b)"
      ],
      "metadata": {
        "colab": {
          "base_uri": "https://localhost:8080/"
        },
        "id": "BhixCUfT48mu",
        "outputId": "bb455816-4aef-4e2f-fc98-21ccc32b3c8f"
      },
      "execution_count": 9,
      "outputs": [
        {
          "output_type": "execute_result",
          "data": {
            "text/plain": [
              "tensor([[ 33.,  33.,  42.],\n",
              "        [ 72.,  75.,  96.],\n",
              "        [108., 114., 147.]])"
            ]
          },
          "metadata": {},
          "execution_count": 9
        }
      ]
    },
    {
      "cell_type": "code",
      "source": [
        "#ex: 2\n",
        "tensor_a = torch.Tensor([[1 , 2],\n",
        "                         [4, 5],\n",
        "                         [8, 7]])\n",
        "tensor_b = torch.Tensor([[1 , 2],\n",
        "                         [4, 5],\n",
        "                         [8, 7]])\n",
        "print(\"tensor_a: \", tensor_a)\n",
        "print()\n",
        "print(\"tensor_b: \", tensor_b)"
      ],
      "metadata": {
        "colab": {
          "base_uri": "https://localhost:8080/"
        },
        "id": "zsoD4JWv5Kmd",
        "outputId": "5a1e9822-4f1a-4388-b0aa-f12b9c9e9dc4"
      },
      "execution_count": 10,
      "outputs": [
        {
          "output_type": "stream",
          "name": "stdout",
          "text": [
            "tensor_a:  tensor([[1., 2.],\n",
            "        [4., 5.],\n",
            "        [8., 7.]])\n",
            "\n",
            "tensor_b:  tensor([[1., 2.],\n",
            "        [4., 5.],\n",
            "        [8., 7.]])\n"
          ]
        }
      ]
    },
    {
      "cell_type": "code",
      "source": [
        "# lets check the shape of the matrices\n",
        "print(\"tensor_a shape: \", tensor_a.shape, \"tensor_b: \", tensor_b.shape)"
      ],
      "metadata": {
        "colab": {
          "base_uri": "https://localhost:8080/"
        },
        "id": "8OVVebNF5Yr6",
        "outputId": "53bb8757-dfd9-4837-93e3-5cf83811b86f"
      },
      "execution_count": 11,
      "outputs": [
        {
          "output_type": "stream",
          "name": "stdout",
          "text": [
            "tensor_a shape:  torch.Size([3, 2]) tensor_b:  torch.Size([3, 2])\n"
          ]
        }
      ]
    },
    {
      "cell_type": "code",
      "source": [
        "# if you observed the shapes of the both tensors are the same, let's do matmul\n",
        "torch.matmul(tensor_a, tensor_b)"
      ],
      "metadata": {
        "colab": {
          "base_uri": "https://localhost:8080/",
          "height": 158
        },
        "id": "fUQc4zTs5dfi",
        "outputId": "4b1bd1a7-c85a-40b7-ee38-cfb05cd043be"
      },
      "execution_count": 12,
      "outputs": [
        {
          "output_type": "error",
          "ename": "RuntimeError",
          "evalue": "mat1 and mat2 shapes cannot be multiplied (3x2 and 3x2)",
          "traceback": [
            "\u001b[0;31m---------------------------------------------------------------------------\u001b[0m",
            "\u001b[0;31mRuntimeError\u001b[0m                              Traceback (most recent call last)",
            "\u001b[0;32m<ipython-input-12-d98e7827ea48>\u001b[0m in \u001b[0;36m<cell line: 2>\u001b[0;34m()\u001b[0m\n\u001b[1;32m      1\u001b[0m \u001b[0;31m# if you observed the shapes of the both tensors are the same, let's do matmul\u001b[0m\u001b[0;34m\u001b[0m\u001b[0;34m\u001b[0m\u001b[0m\n\u001b[0;32m----> 2\u001b[0;31m \u001b[0mtorch\u001b[0m\u001b[0;34m.\u001b[0m\u001b[0mmatmul\u001b[0m\u001b[0;34m(\u001b[0m\u001b[0mtensor_a\u001b[0m\u001b[0;34m,\u001b[0m \u001b[0mtensor_b\u001b[0m\u001b[0;34m)\u001b[0m\u001b[0;34m\u001b[0m\u001b[0;34m\u001b[0m\u001b[0m\n\u001b[0m",
            "\u001b[0;31mRuntimeError\u001b[0m: mat1 and mat2 shapes cannot be multiplied (3x2 and 3x2)"
          ]
        }
      ]
    },
    {
      "cell_type": "code",
      "source": [
        "# we got an error, when have the shapes like the row and columns did match\n",
        "# we need to transpose the rows and columns using tesor.T\n",
        "tensor_b = tensor_b.T\n",
        "torch.matmul(tensor_a, tensor_b)"
      ],
      "metadata": {
        "colab": {
          "base_uri": "https://localhost:8080/"
        },
        "id": "RlbGJ4Ic5mxm",
        "outputId": "2fa05ea3-8299-44aa-f306-580f2517afc7"
      },
      "execution_count": 13,
      "outputs": [
        {
          "output_type": "execute_result",
          "data": {
            "text/plain": [
              "tensor([[  5.,  14.,  22.],\n",
              "        [ 14.,  41.,  67.],\n",
              "        [ 22.,  67., 113.]])"
            ]
          },
          "metadata": {},
          "execution_count": 13
        }
      ]
    },
    {
      "cell_type": "code",
      "source": [
        "# now you wont get any error to under stood how matmult happend when row and columns are not same\n",
        "# please check out: http://matrixmultiplication.xyz/"
      ],
      "metadata": {
        "id": "p8GyfiD654kL"
      },
      "execution_count": 14,
      "outputs": []
    },
    {
      "cell_type": "code",
      "source": [
        "# other useful tensor operations\n",
        "print('tensor_a: ', tensor_a)\n",
        "sum = torch.sum(tensor_a)\n",
        "print(\"tensor_a sum: \", sum)\n",
        "print('we got 27 because: 1+2+4+5+8+7=27')\n",
        "# if you want you can also do sum based on axis4\n",
        "sum_x = torch.sum(tensor_a, dim=0)\n",
        "print(\"tensor_a sum: \", sum_x)"
      ],
      "metadata": {
        "colab": {
          "base_uri": "https://localhost:8080/"
        },
        "id": "kkw_lnGj6C61",
        "outputId": "6756e8fc-6af6-49bf-aaf4-26c4bfe79016"
      },
      "execution_count": 15,
      "outputs": [
        {
          "output_type": "stream",
          "name": "stdout",
          "text": [
            "tensor_a:  tensor([[1., 2.],\n",
            "        [4., 5.],\n",
            "        [8., 7.]])\n",
            "tensor_a sum:  tensor(27.)\n",
            "we got 27 because: 1+2+4+5+8+7=27\n",
            "tensor_a sum:  tensor([13., 14.])\n"
          ]
        }
      ]
    },
    {
      "cell_type": "code",
      "source": [
        "# getting the maximum value, torch.max return the value and its index\n",
        "value, index = torch.max(tensor_a, dim=0)\n",
        "print(value, index)\n",
        "# getting the minimum value, torch.max return the value and its index\n",
        "value, index = torch.min(tensor_a, dim=0)\n",
        "print(value, index)"
      ],
      "metadata": {
        "colab": {
          "base_uri": "https://localhost:8080/"
        },
        "id": "-MOcay7_7Yza",
        "outputId": "b59762bf-48be-45e4-86b7-1728e76b19c7"
      },
      "execution_count": 19,
      "outputs": [
        {
          "output_type": "stream",
          "name": "stdout",
          "text": [
            "tensor([8., 7.]) tensor([2, 2])\n",
            "tensor([1., 2.]) tensor([0, 0])\n"
          ]
        }
      ]
    },
    {
      "cell_type": "code",
      "source": [
        "# we have a another function to get max and min value from tensor torch.argmax and torch.argmin it only return value not indexes\n",
        "max_value = torch.argmax(tensor_a)\n",
        "min_value=torch.argmin(tensor_a)\n",
        "print(\"max_value: \", max_value, \"min_value: \", min_value)"
      ],
      "metadata": {
        "colab": {
          "base_uri": "https://localhost:8080/"
        },
        "id": "WCqEAUks8G0v",
        "outputId": "3fa01cda-74d4-44e4-e0d5-b2d94ce8c043"
      },
      "execution_count": 21,
      "outputs": [
        {
          "output_type": "stream",
          "name": "stdout",
          "text": [
            "max_value:  tensor(4) min_value:  tensor(0)\n"
          ]
        }
      ]
    },
    {
      "cell_type": "code",
      "source": [
        "# we can also do sorting using torch.sort, which will return the sorted_array and indexes\n",
        "sorted_arr, indexes = torch.sort(tensor_a, dim=1)\n",
        "print(\"sorted_arr: \", sorted_arr)"
      ],
      "metadata": {
        "colab": {
          "base_uri": "https://localhost:8080/"
        },
        "id": "jSIOtw-58jMF",
        "outputId": "8381ec5c-c67a-4481-c887-6726ba5b36c6"
      },
      "execution_count": 23,
      "outputs": [
        {
          "output_type": "stream",
          "name": "stdout",
          "text": [
            "sorted_arr:  tensor([[1., 2.],\n",
            "        [4., 5.],\n",
            "        [7., 8.]])\n"
          ]
        }
      ]
    },
    {
      "cell_type": "code",
      "source": [],
      "metadata": {
        "id": "6tWFJD3487hG"
      },
      "execution_count": null,
      "outputs": []
    }
  ]
}