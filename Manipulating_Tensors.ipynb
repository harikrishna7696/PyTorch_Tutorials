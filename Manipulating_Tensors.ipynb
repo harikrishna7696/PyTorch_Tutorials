{
  "nbformat": 4,
  "nbformat_minor": 0,
  "metadata": {
    "colab": {
      "provenance": []
    },
    "kernelspec": {
      "name": "python3",
      "display_name": "Python 3"
    },
    "language_info": {
      "name": "python"
    }
  },
  "cells": [
    {
      "cell_type": "markdown",
      "source": [
        "# Manipulating Tensors\n",
        "\n",
        "In deep learning data represents in tensors. when the model is training it will perform a series of operations on tensor to find the patterns in the data.\n",
        "\n",
        "ex:\n",
        "\n",
        "Addition\n",
        "\n",
        "Subtraction\n",
        "\n",
        "Multiplication(element-wise)\n",
        "\n",
        "Division\n",
        "\n",
        "Matrix Multiplication(Most Useful)"
      ],
      "metadata": {
        "id": "DxovL7uQtVFB"
      }
    },
    {
      "cell_type": "code",
      "source": [
        "# creating a tensor to perform the math operations\n",
        "import torch\n",
        "tensor = torch.tensor(2)\n",
        "print('tensor: ', tensor)"
      ],
      "metadata": {
        "colab": {
          "base_uri": "https://localhost:8080/"
        },
        "id": "QpJV0zXvuhAv",
        "outputId": "88286aba-97c2-498e-ad73-b078bfb77f43"
      },
      "execution_count": 1,
      "outputs": [
        {
          "output_type": "stream",
          "name": "stdout",
          "text": [
            "tensor:  tensor(2)\n"
          ]
        }
      ]
    },
    {
      "cell_type": "code",
      "source": [
        "# Addition\n",
        "print('adding 5 to tensor: ', tensor+5)\n",
        "print('tensor:', tensor)\n",
        "# for one tensor it will be easy just it add 5 to 2 5+2=7\n",
        "# if we see it still 2 to replicate in tensor we have to assign to the variable\n",
        "tensor = tensor + 5\n",
        "print('tensor:', tensor)\n",
        "\n",
        "vector = torch.tensor([1, 2, 5,65,8])\n",
        "vector = vector + 5\n",
        "print('adding 5 to every element in a vector: ', vector)\n",
        "\n",
        "'''\n",
        "The addition happend element vector: [1, 2, 5,65,8]\n",
        "1 + 5 = 6\n",
        "2 + 5 = 7\n",
        "5 + 5 = 10\n",
        "65 + 5 = 70\n",
        "8 + 5 = 13\n",
        "result of tensor = [ 6,  7, 10, 70, 13]\n",
        "every math operation will perform same like this except matrix multiplication\n",
        "'''"
      ],
      "metadata": {
        "colab": {
          "base_uri": "https://localhost:8080/",
          "height": 122
        },
        "id": "mr0YknALwFLK",
        "outputId": "24fecbf3-5d07-470b-976e-68a0ae3403b4"
      },
      "execution_count": 2,
      "outputs": [
        {
          "output_type": "stream",
          "name": "stdout",
          "text": [
            "adding 5 to tensor:  tensor(7)\n",
            "tensor: tensor(2)\n",
            "tensor: tensor(7)\n",
            "adding 5 to every element in a vector:  tensor([ 6,  7, 10, 70, 13])\n"
          ]
        },
        {
          "output_type": "execute_result",
          "data": {
            "text/plain": [
              "'\\nThe addition happend element vector: [1, 2, 5,65,8]\\n1 + 5 = 6\\n2 + 5 = 7\\n5 + 5 = 10\\n65 + 5 = 70\\n8 + 5 = 13\\nresult of tensor = [ 6,  7, 10, 70, 13]\\nevery math operation will perform same like this except matrix multiplication\\n'"
            ],
            "application/vnd.google.colaboratory.intrinsic+json": {
              "type": "string"
            }
          },
          "metadata": {},
          "execution_count": 2
        }
      ]
    },
    {
      "cell_type": "code",
      "source": [
        "# Subtraction\n",
        "print('subtracting 5 to tensor: ', tensor - 5)\n",
        "print('tensor:', tensor)\n",
        "# for one tensor it will be easy just it add 5 to 2 5+2=7\n",
        "# if we see it still 2 to replicate in tensor we have to assign to the variable\n",
        "tensor = tensor - 5\n",
        "print('tensor:', tensor)\n",
        "\n",
        "vector = torch.tensor([1, 2, 5,65,8])\n",
        "vector = vector - 5\n",
        "print('subtracting 5 to every element in a vector: ', vector)"
      ],
      "metadata": {
        "colab": {
          "base_uri": "https://localhost:8080/"
        },
        "id": "2Lj7M6GuxuVa",
        "outputId": "1572cf37-fe36-43c9-edfd-a9e2e8049a93"
      },
      "execution_count": 3,
      "outputs": [
        {
          "output_type": "stream",
          "name": "stdout",
          "text": [
            "subtracting 5 to tensor:  tensor(2)\n",
            "tensor: tensor(7)\n",
            "tensor: tensor(2)\n",
            "subtracting 5 to every element in a vector:  tensor([-4, -3,  0, 60,  3])\n"
          ]
        }
      ]
    },
    {
      "cell_type": "code",
      "source": [
        "# Subtraction\n",
        "print('multiplication 5 to tensor: ', tensor * 5)\n",
        "print('tensor:', tensor)\n",
        "# for one tensor it will be easy just it add 5 to 2 5+2=7\n",
        "# if we see it still 2 to replicate in tensor we have to assign to the variable\n",
        "tensor = tensor * 5\n",
        "print('tensor:', tensor)\n",
        "\n",
        "vector = torch.tensor([1, 2, 5,65,8])\n",
        "vector = vector * 5\n",
        "print('multiplication 5 to every element in a vector: ', vector)"
      ],
      "metadata": {
        "colab": {
          "base_uri": "https://localhost:8080/"
        },
        "id": "e9-Hj3nux45_",
        "outputId": "ac2ba001-da3b-4acb-afff-e240a1f5f253"
      },
      "execution_count": 4,
      "outputs": [
        {
          "output_type": "stream",
          "name": "stdout",
          "text": [
            "multiplication 5 to tensor:  tensor(10)\n",
            "tensor: tensor(2)\n",
            "tensor: tensor(10)\n",
            "multiplication 5 to every element in a vector:  tensor([  5,  10,  25, 325,  40])\n"
          ]
        }
      ]
    },
    {
      "cell_type": "code",
      "source": [
        "# Division\n",
        "print('division 5 to tensor: ', tensor / 5)\n",
        "print('tensor:', tensor)\n",
        "# for one tensor it will be easy just it add 5 to 2 5+2=7\n",
        "# if we see it still 2 to replicate in tensor we have to assign to the variable\n",
        "tensor = tensor / 5\n",
        "print('tensor:', tensor)\n",
        "\n",
        "vector = torch.tensor([1, 2, 5,65,8])\n",
        "vector = vector / 5\n",
        "print('division 5 to every element in a vector: ', vector)"
      ],
      "metadata": {
        "colab": {
          "base_uri": "https://localhost:8080/"
        },
        "id": "0WE-UqfGyAUi",
        "outputId": "272a4462-a434-4d7a-c82c-e2a1347dda68"
      },
      "execution_count": 5,
      "outputs": [
        {
          "output_type": "stream",
          "name": "stdout",
          "text": [
            "division 5 to tensor:  tensor(2.)\n",
            "tensor: tensor(10)\n",
            "tensor: tensor(2.)\n",
            "division 5 to every element in a vector:  tensor([ 0.2000,  0.4000,  1.0000, 13.0000,  1.6000])\n"
          ]
        }
      ]
    },
    {
      "cell_type": "markdown",
      "source": [
        "# Matrix Multiplication\n",
        "\n",
        "One of the most common operation used in maching learning and deep learning.matrix multiplication is a core operation in deep learning that enables efficient computation of complex mathematical transformations, making it essential for training and deploying neural networks.\n",
        "\n",
        "examples of matix multiplcation used in:\n",
        "\n",
        "1) **Fully Connected Layers (Dense Layers):** When inputs from one layer are multiplied by weights and summed, this operation can be efficiently represented as a matrix multiplication.\n",
        "\n",
        "2) **Convolutional Layers:** These convolution operations can be implemented as a series of matrix multiplications, where the input data and filters (kernels) are represented as matrices and convolutions are performed using matrix multiplication.\n",
        "\n",
        "3) **Recurrent Neural Networks (RNNs):** Matrix multiplication is used to update and propagate the hidden state through time steps, making RNNs efficient for sequence modeling tasks such as natural language processing (NLP) and time series prediction.\n",
        "\n",
        "4) **Batch Processing:** Matrix multiplication allows for parallel processing of these batches, which accelerates training and inference on modern hardware such as GPUs and TPUs.\n",
        "\n",
        "5) Regularization: This can be implemented efficiently using matrix multiplication by scaling the activations of neurons appropriately.\n",
        "\n",
        "To get better understading of matrix multiplication do visit the below website:\n",
        "https://www.mathsisfun.com/algebra/matrix-multiplying.html\n",
        "\n"
      ],
      "metadata": {
        "id": "xZ7lK9JVyJKb"
      }
    },
    {
      "cell_type": "code",
      "source": [
        "# Matix Muliplication\n",
        "matrix_a = torch.tensor([[2, 5, 6],\n",
        "                         [8, 10, 9]])\n",
        "print('matrix a with 3 rows and 2 columns: ', matrix_a)"
      ],
      "metadata": {
        "colab": {
          "base_uri": "https://localhost:8080/"
        },
        "id": "3DwT5n4t52-z",
        "outputId": "7470771c-90ba-4738-cada-3ad39c6ae391"
      },
      "execution_count": 6,
      "outputs": [
        {
          "output_type": "stream",
          "name": "stdout",
          "text": [
            "matrix a with 3 rows and 2 columns:  tensor([[ 2,  5,  6],\n",
            "        [ 8, 10,  9]])\n"
          ]
        }
      ]
    },
    {
      "cell_type": "code",
      "source": [
        "matrix_b = torch.tensor([[6, 4, 4],\n",
        "                         [6, 5, 9]])\n",
        "print('matrix b with 3 rows and 2 columns: ', matrix_b)"
      ],
      "metadata": {
        "colab": {
          "base_uri": "https://localhost:8080/"
        },
        "id": "UwsIN2rD6Jvo",
        "outputId": "b4d95f56-1064-405c-f9cf-07f6f88a54e7"
      },
      "execution_count": 7,
      "outputs": [
        {
          "output_type": "stream",
          "name": "stdout",
          "text": [
            "matrix b with 3 rows and 2 columns:  tensor([[6, 4, 4],\n",
            "        [6, 5, 9]])\n"
          ]
        }
      ]
    },
    {
      "cell_type": "code",
      "source": [
        "print(\"Size of Matrix A: \", matrix_a.shape)\n",
        "print(\"Size of Matrix B: \", matrix_b.shape)"
      ],
      "metadata": {
        "colab": {
          "base_uri": "https://localhost:8080/"
        },
        "id": "1rJXss7O6lNO",
        "outputId": "bccc052c-ce9c-4a0b-9c9c-f68b029182df"
      },
      "execution_count": 8,
      "outputs": [
        {
          "output_type": "stream",
          "name": "stdout",
          "text": [
            "Size of Matrix A:  torch.Size([2, 3])\n",
            "Size of Matrix B:  torch.Size([2, 3])\n"
          ]
        }
      ]
    },
    {
      "cell_type": "code",
      "source": [
        "print(\"The size of Matrix a and b are same 2 rows 3 columns\")\n",
        "# lets do matrix multiplication using torch.matmul(a, b)\n",
        "torch.matmul(matrix_a, matrix_b)"
      ],
      "metadata": {
        "colab": {
          "base_uri": "https://localhost:8080/",
          "height": 193
        },
        "id": "vosQQ8A86tuy",
        "outputId": "3f195f1b-dfa9-4d60-ee58-7fd07722a146"
      },
      "execution_count": 9,
      "outputs": [
        {
          "output_type": "stream",
          "name": "stdout",
          "text": [
            "The size of Matrix a and b are same 2 rows 3 columns\n"
          ]
        },
        {
          "output_type": "error",
          "ename": "RuntimeError",
          "evalue": "mat1 and mat2 shapes cannot be multiplied (2x3 and 2x3)",
          "traceback": [
            "\u001b[0;31m---------------------------------------------------------------------------\u001b[0m",
            "\u001b[0;31mRuntimeError\u001b[0m                              Traceback (most recent call last)",
            "\u001b[0;32m<ipython-input-9-fe9005d96abc>\u001b[0m in \u001b[0;36m<cell line: 3>\u001b[0;34m()\u001b[0m\n\u001b[1;32m      1\u001b[0m \u001b[0mprint\u001b[0m\u001b[0;34m(\u001b[0m\u001b[0;34m\"The size of Matrix a and b are same 2 rows 3 columns\"\u001b[0m\u001b[0;34m)\u001b[0m\u001b[0;34m\u001b[0m\u001b[0;34m\u001b[0m\u001b[0m\n\u001b[1;32m      2\u001b[0m \u001b[0;31m# lets do matrix multiplication using torch.matmul(a, b)\u001b[0m\u001b[0;34m\u001b[0m\u001b[0;34m\u001b[0m\u001b[0m\n\u001b[0;32m----> 3\u001b[0;31m \u001b[0mtorch\u001b[0m\u001b[0;34m.\u001b[0m\u001b[0mmatmul\u001b[0m\u001b[0;34m(\u001b[0m\u001b[0mmatrix_a\u001b[0m\u001b[0;34m,\u001b[0m \u001b[0mmatrix_b\u001b[0m\u001b[0;34m)\u001b[0m\u001b[0;34m\u001b[0m\u001b[0;34m\u001b[0m\u001b[0m\n\u001b[0m",
            "\u001b[0;31mRuntimeError\u001b[0m: mat1 and mat2 shapes cannot be multiplied (2x3 and 2x3)"
          ]
        }
      ]
    },
    {
      "cell_type": "code",
      "source": [
        "# We got error the 1st rule of matmul the shapes of the matrices are not to bee same\n",
        "\n",
        "'''\n",
        "ex: matrix_a: [2, 3] and matix_b: [2, 3] -> Get Error\n",
        "The shapes of the matrices need to be vice versa\n",
        "matrix_a: [2, 3] and matrix b need to be [3, 2] lets try\n",
        "'''\n",
        "\n",
        "# In PyTorch we have transpose() function to shift row into columns and vice versa\n",
        "# torch.transpose(matrix, dim0, dim1)\n",
        "print('Transpose the matrix_b: ', torch.transpose(matrix_b, 1, 0)) # i am shifting 1 column to row and 0 row to column\n",
        "print('Another way to do transpose: ', matrix_b.T)"
      ],
      "metadata": {
        "colab": {
          "base_uri": "https://localhost:8080/"
        },
        "id": "zOHulKFl7GXt",
        "outputId": "ef205dee-ea4e-4e7e-a4c7-eabbb6a191a3"
      },
      "execution_count": 10,
      "outputs": [
        {
          "output_type": "stream",
          "name": "stdout",
          "text": [
            "Transpose the matrix_b:  tensor([[6, 6],\n",
            "        [4, 5],\n",
            "        [4, 9]])\n",
            "Another way to do transpose:  tensor([[6, 6],\n",
            "        [4, 5],\n",
            "        [4, 9]])\n"
          ]
        }
      ]
    },
    {
      "cell_type": "code",
      "source": [
        "matrix_b = matrix_b.T\n",
        "matrix_b"
      ],
      "metadata": {
        "colab": {
          "base_uri": "https://localhost:8080/"
        },
        "id": "feG3NE7D8qT1",
        "outputId": "f2796a96-ba35-4e16-bf8d-b61702fe684b"
      },
      "execution_count": 11,
      "outputs": [
        {
          "output_type": "execute_result",
          "data": {
            "text/plain": [
              "tensor([[6, 6],\n",
              "        [4, 5],\n",
              "        [4, 9]])"
            ]
          },
          "metadata": {},
          "execution_count": 11
        }
      ]
    },
    {
      "cell_type": "code",
      "source": [
        "# mat multiplication\n",
        "mat_mul_a_b = torch.matmul(matrix_a, matrix_b)\n",
        "mat_mul_a_b"
      ],
      "metadata": {
        "colab": {
          "base_uri": "https://localhost:8080/"
        },
        "id": "nmqP00bw790s",
        "outputId": "0b75d0d2-1284-4ca6-8ab2-67ce5ec68b1d"
      },
      "execution_count": 12,
      "outputs": [
        {
          "output_type": "execute_result",
          "data": {
            "text/plain": [
              "tensor([[ 56,  91],\n",
              "        [124, 179]])"
            ]
          },
          "metadata": {},
          "execution_count": 12
        }
      ]
    },
    {
      "cell_type": "code",
      "source": [
        "# Debugging How Matrix Multiplication is happening\n",
        "print('matrix a: ', matrix_a)\n",
        "print('matrix_b: ', matrix_b)"
      ],
      "metadata": {
        "colab": {
          "base_uri": "https://localhost:8080/"
        },
        "id": "jUsjlr4B9BVI",
        "outputId": "62de4877-15a1-4447-f413-d86ace3d990f"
      },
      "execution_count": 13,
      "outputs": [
        {
          "output_type": "stream",
          "name": "stdout",
          "text": [
            "matrix a:  tensor([[ 2,  5,  6],\n",
            "        [ 8, 10,  9]])\n",
            "matrix_b:  tensor([[6, 6],\n",
            "        [4, 5],\n",
            "        [4, 9]])\n"
          ]
        }
      ]
    },
    {
      "cell_type": "code",
      "source": [
        "# firs it will take the 1 row and all columns\n",
        "print('matrix_a 1row and all columns: ', matrix_a[0])\n",
        "print('marix_b all rows 1st column: ', matrix_b[:, 0])\n",
        "mat_mul=[]\n",
        "c = 0\n",
        "while c != 2:\n",
        "  mat_count = 0\n",
        "  for val_a, val_b in zip(matrix_a[0], matrix_b[:, c]):\n",
        "    print(f'multiplying {val_a} and {val_b}: ', (val_a * val_b).item())\n",
        "    mat_count += (val_a * val_b)\n",
        "  mat_mul.append(mat_count.item())\n",
        "  c += 1\n",
        "print(mat_mul)"
      ],
      "metadata": {
        "colab": {
          "base_uri": "https://localhost:8080/"
        },
        "id": "uXSgAvIY9Q4m",
        "outputId": "6451da39-c6a1-4705-8bb9-1b09dfbef981"
      },
      "execution_count": 14,
      "outputs": [
        {
          "output_type": "stream",
          "name": "stdout",
          "text": [
            "matrix_a 1row and all columns:  tensor([2, 5, 6])\n",
            "marix_b all rows 1st column:  tensor([6, 4, 4])\n",
            "multiplying 2 and 6:  12\n",
            "multiplying 5 and 4:  20\n",
            "multiplying 6 and 4:  24\n",
            "multiplying 2 and 6:  12\n",
            "multiplying 5 and 5:  25\n",
            "multiplying 6 and 9:  54\n",
            "[56, 91]\n"
          ]
        }
      ]
    },
    {
      "cell_type": "code",
      "source": [
        "print('matrix_a 2row and all columns: ', matrix_a[1])\n",
        "print('marix_b all rows all column: ', matrix_b[:, :])\n",
        "c = 0\n",
        "while c != 2:\n",
        "  mat_count = 0\n",
        "  for val_a, val_b in zip(matrix_a[1], matrix_b[:, c]):\n",
        "    print(f'multiplying {val_a} and {val_b}: ', (val_a * val_b).item())\n",
        "    mat_count += (val_a * val_b)\n",
        "  mat_mul.append(mat_count.item())\n",
        "  c += 1\n",
        "print(mat_mul)"
      ],
      "metadata": {
        "colab": {
          "base_uri": "https://localhost:8080/"
        },
        "id": "L6nPeyfiBksE",
        "outputId": "7eca56bf-f73f-4fb0-c96b-e6cb7434dbf9"
      },
      "execution_count": 15,
      "outputs": [
        {
          "output_type": "stream",
          "name": "stdout",
          "text": [
            "matrix_a 2row and all columns:  tensor([ 8, 10,  9])\n",
            "marix_b all rows all column:  tensor([[6, 6],\n",
            "        [4, 5],\n",
            "        [4, 9]])\n",
            "multiplying 8 and 6:  48\n",
            "multiplying 10 and 4:  40\n",
            "multiplying 9 and 4:  36\n",
            "multiplying 8 and 6:  48\n",
            "multiplying 10 and 5:  50\n",
            "multiplying 9 and 9:  81\n",
            "[56, 91, 124, 179]\n"
          ]
        }
      ]
    },
    {
      "cell_type": "code",
      "source": [
        "print('Mat multiplication of matrix_a and matrix_b with torhc.matmul: ', mat_mul_a_b)\n",
        "print('Mat multiplication of matrix_a and matrix_b with python code: ', mat_mul)"
      ],
      "metadata": {
        "colab": {
          "base_uri": "https://localhost:8080/"
        },
        "id": "0KMxH3Fi9Wkh",
        "outputId": "f9bfc2c6-9c9f-49e6-9fa5-4672e438aa20"
      },
      "execution_count": 16,
      "outputs": [
        {
          "output_type": "stream",
          "name": "stdout",
          "text": [
            "Mat multiplication of matrix_a and matrix_b with torhc.matmul:  tensor([[ 56,  91],\n",
            "        [124, 179]])\n",
            "Mat multiplication of matrix_a and matrix_b with python code:  [56, 91, 124, 179]\n"
          ]
        }
      ]
    },
    {
      "cell_type": "code",
      "source": [
        "# reshaping mat mul\n",
        "# first we need to convert python list to numpy array\n",
        "import numpy as np\n",
        "mat_mul_array = np.array(mat_mul)\n",
        "print('mat_mul_array: ', mat_mul_array, 'type: ', type(mat_mul_array))\n",
        "mat_mul_tensor = torch.from_numpy(mat_mul_array)\n",
        "print('mat_mul_tensor: ', mat_mul_tensor, 'type: ', type(mat_mul_tensor))\n",
        "\n",
        "# reshaping the tensor to 2 * 2 Matrix\n",
        "mat_mul_tensor = mat_mul_tensor.reshape((2, 2))\n",
        "print(mat_mul_tensor)"
      ],
      "metadata": {
        "colab": {
          "base_uri": "https://localhost:8080/"
        },
        "id": "j6k1geeWDcGi",
        "outputId": "9dce55c4-55bf-4c28-fc30-c3e388005485"
      },
      "execution_count": 17,
      "outputs": [
        {
          "output_type": "stream",
          "name": "stdout",
          "text": [
            "mat_mul_array:  [ 56  91 124 179] type:  <class 'numpy.ndarray'>\n",
            "mat_mul_tensor:  tensor([ 56,  91, 124, 179]) type:  <class 'torch.Tensor'>\n",
            "tensor([[ 56,  91],\n",
            "        [124, 179]])\n"
          ]
        }
      ]
    },
    {
      "cell_type": "code",
      "source": [
        "print('Mat multiplication of matrix_a and matrix_b with torhc.matmul: ', mat_mul_a_b)\n",
        "print('Mat multiplication of matrix_a and matrix_b with python code: ', mat_mul_tensor)"
      ],
      "metadata": {
        "colab": {
          "base_uri": "https://localhost:8080/"
        },
        "id": "pKv-JfVKEsBo",
        "outputId": "96b3c320-6ed7-4357-94c8-fca40ea05d8d"
      },
      "execution_count": 18,
      "outputs": [
        {
          "output_type": "stream",
          "name": "stdout",
          "text": [
            "Mat multiplication of matrix_a and matrix_b with torhc.matmul:  tensor([[ 56,  91],\n",
            "        [124, 179]])\n",
            "Mat multiplication of matrix_a and matrix_b with python code:  tensor([[ 56,  91],\n",
            "        [124, 179]])\n"
          ]
        }
      ]
    },
    {
      "cell_type": "markdown",
      "source": [
        "# sample shapes for matrix multiplication\n",
        "*----A----*|*----B----*|*----works----*|*---ouput_shape----*\n",
        "\n",
        "(3, 2)      (3, 2)         won't work         None\n",
        "\n",
        "(3, 2)      (2, 3)          works            (3, 3)\n",
        "\n",
        "(8, 8)      (8, 8)          works            (8, 8)\n",
        "\n",
        "(8, 4)      (4, 8)          works            (8, 8)\n",
        "\n",
        "(9, 5)      (5, 9)         works             (9, 9)\n",
        "\n",
        "# Note: Better way to find the output of matrix multiplication is matrix_a no of rows, and matrix_b no of columns: output_shape(matrix_a_rows, matrix_b_columns)\n",
        "\n",
        "visite: http://matrixmultiplication.xyz/ to visulize how the matrix multiplication works"
      ],
      "metadata": {
        "id": "FgQSeBJfEuxZ"
      }
    },
    {
      "cell_type": "code",
      "source": [
        "_8_a = torch.arange(1, 46).reshape((9, 5))\n",
        "_8_b = torch.arange(46, 91).reshape((5, 9))\n",
        "torch.matmul(_8_b, _8_a).shape"
      ],
      "metadata": {
        "colab": {
          "base_uri": "https://localhost:8080/"
        },
        "id": "n_Nfb6bFGYW1",
        "outputId": "ded2658e-f74e-45b1-c54a-35716665441a"
      },
      "execution_count": 19,
      "outputs": [
        {
          "output_type": "execute_result",
          "data": {
            "text/plain": [
              "torch.Size([5, 5])"
            ]
          },
          "metadata": {},
          "execution_count": 19
        }
      ]
    },
    {
      "cell_type": "code",
      "source": [
        "# other ways to do matrix multiplication\n",
        "\n",
        "# torhc.mm() short from of torch.matmul()"
      ],
      "metadata": {
        "id": "-c_0yeNUJbf6"
      },
      "execution_count": 20,
      "outputs": []
    },
    {
      "cell_type": "code",
      "source": [
        "# finding the min,max,mean and sum in tensor\n",
        "tensor = torch.randint(low=1, high=100, size=(5, 6))\n",
        "print('tensor: ', tensor)"
      ],
      "metadata": {
        "colab": {
          "base_uri": "https://localhost:8080/"
        },
        "id": "jhVrpj41JvvX",
        "outputId": "7eef6ece-5a44-452a-ff0a-3b77796a9c1f"
      },
      "execution_count": 21,
      "outputs": [
        {
          "output_type": "stream",
          "name": "stdout",
          "text": [
            "tensor:  tensor([[65, 61, 47,  2, 77,  7],\n",
            "        [ 7, 26, 81, 61, 93, 63],\n",
            "        [69, 41, 12,  2,  2, 45],\n",
            "        [84, 66, 36, 80, 47, 30],\n",
            "        [12, 63,  6, 60, 65, 77]])\n"
          ]
        }
      ]
    },
    {
      "cell_type": "code",
      "source": [
        "print(\"Max number in tensor: \", tensor.max())\n",
        "print(\"Min number in tensor: \", tensor.min())\n",
        "print(\"Mean of tensor: \", tensor.type(torch.float32).mean()) # to find mean the data of torch need to be float or complex number\n",
        "print(\"sum of the tensor: \", tensor.sum())"
      ],
      "metadata": {
        "colab": {
          "base_uri": "https://localhost:8080/"
        },
        "id": "BrYnVeVVM-we",
        "outputId": "ac6c559b-1c3d-4068-c7f9-636618ca9195"
      },
      "execution_count": 22,
      "outputs": [
        {
          "output_type": "stream",
          "name": "stdout",
          "text": [
            "Max number in tensor:  tensor(93)\n",
            "Min number in tensor:  tensor(2)\n",
            "Mean of tensor:  tensor(46.2333)\n",
            "sum of the tensor:  tensor(1387)\n"
          ]
        }
      ]
    },
    {
      "cell_type": "code",
      "source": [
        "print('tensor:' ,tensor)\n",
        "print('tensor data type: ', tensor.dtype)"
      ],
      "metadata": {
        "colab": {
          "base_uri": "https://localhost:8080/"
        },
        "id": "KDQ6CjCLOHuy",
        "outputId": "c64bad04-6253-408c-b9bc-8014869786ef"
      },
      "execution_count": 23,
      "outputs": [
        {
          "output_type": "stream",
          "name": "stdout",
          "text": [
            "tensor: tensor([[65, 61, 47,  2, 77,  7],\n",
            "        [ 7, 26, 81, 61, 93, 63],\n",
            "        [69, 41, 12,  2,  2, 45],\n",
            "        [84, 66, 36, 80, 47, 30],\n",
            "        [12, 63,  6, 60, 65, 77]])\n",
            "tensor data type:  torch.int64\n"
          ]
        }
      ]
    },
    {
      "cell_type": "code",
      "source": [
        "# The tensor data type is int64\n",
        "tensor = tensor.type(torch.float32)\n",
        "tensor"
      ],
      "metadata": {
        "colab": {
          "base_uri": "https://localhost:8080/"
        },
        "id": "3IRaMPXFONNa",
        "outputId": "f8cc4da1-fca2-44b9-ccd9-5d56568ec025"
      },
      "execution_count": 24,
      "outputs": [
        {
          "output_type": "execute_result",
          "data": {
            "text/plain": [
              "tensor([[65., 61., 47.,  2., 77.,  7.],\n",
              "        [ 7., 26., 81., 61., 93., 63.],\n",
              "        [69., 41., 12.,  2.,  2., 45.],\n",
              "        [84., 66., 36., 80., 47., 30.],\n",
              "        [12., 63.,  6., 60., 65., 77.]])"
            ]
          },
          "metadata": {},
          "execution_count": 24
        }
      ]
    },
    {
      "cell_type": "code",
      "source": [
        "print(\"tensore data type: \", tensor.dtype)"
      ],
      "metadata": {
        "colab": {
          "base_uri": "https://localhost:8080/"
        },
        "id": "4fVvCUj4Os4F",
        "outputId": "3a65ea50-c036-490b-c280-2f020e58546c"
      },
      "execution_count": 25,
      "outputs": [
        {
          "output_type": "stream",
          "name": "stdout",
          "text": [
            "tensore data type:  torch.float32\n"
          ]
        }
      ]
    },
    {
      "cell_type": "markdown",
      "source": [
        "# Reshaping, stacking, squeezing and unsqueezing\n",
        "Because deep learning models (neural networks) are all about manipulating tensors in some way. And because of the rules of matrix multiplication, if you've got shape mismatches, you'll run into errors. These methods help you make sure the right elements of your tensors are mixing with the right elements of other tensors"
      ],
      "metadata": {
        "id": "o40gc1ELPcMS"
      }
    },
    {
      "cell_type": "code",
      "source": [
        "# reshaping the tensor\n",
        "tensor = torch.arange(10)\n",
        "tensor, tensor.size()"
      ],
      "metadata": {
        "colab": {
          "base_uri": "https://localhost:8080/"
        },
        "id": "GOg7TzYzPz2w",
        "outputId": "12d28744-715c-43a1-e626-6e9681b553b9"
      },
      "execution_count": 26,
      "outputs": [
        {
          "output_type": "execute_result",
          "data": {
            "text/plain": [
              "(tensor([0, 1, 2, 3, 4, 5, 6, 7, 8, 9]), torch.Size([10]))"
            ]
          },
          "metadata": {},
          "execution_count": 26
        }
      ]
    },
    {
      "cell_type": "code",
      "source": [
        "# the size of the tensor is 10 it contains 10 values\n",
        "print('Reshaping tensor into 5*2', tensor.reshape((5, 2))) # vice versa"
      ],
      "metadata": {
        "colab": {
          "base_uri": "https://localhost:8080/"
        },
        "id": "mx7jfdXYQsYH",
        "outputId": "660023d4-39a2-4229-a248-106b1564f188"
      },
      "execution_count": 27,
      "outputs": [
        {
          "output_type": "stream",
          "name": "stdout",
          "text": [
            "Reshaping tensor into 5*2 tensor([[0, 1],\n",
            "        [2, 3],\n",
            "        [4, 5],\n",
            "        [6, 7],\n",
            "        [8, 9]])\n"
          ]
        }
      ]
    },
    {
      "cell_type": "code",
      "source": [
        "print('Reshaping tensor into 6 * 2', tensor.reshape((6, 2)))"
      ],
      "metadata": {
        "colab": {
          "base_uri": "https://localhost:8080/",
          "height": 141
        },
        "id": "G2yw8N45Q8lz",
        "outputId": "bcf146f1-c8a9-43da-cc54-876e8f062fa9"
      },
      "execution_count": 28,
      "outputs": [
        {
          "output_type": "error",
          "ename": "RuntimeError",
          "evalue": "shape '[6, 2]' is invalid for input of size 10",
          "traceback": [
            "\u001b[0;31m---------------------------------------------------------------------------\u001b[0m",
            "\u001b[0;31mRuntimeError\u001b[0m                              Traceback (most recent call last)",
            "\u001b[0;32m<ipython-input-28-965bbe947b37>\u001b[0m in \u001b[0;36m<cell line: 1>\u001b[0;34m()\u001b[0m\n\u001b[0;32m----> 1\u001b[0;31m \u001b[0mprint\u001b[0m\u001b[0;34m(\u001b[0m\u001b[0;34m'Reshaping tensor into 6 * 2'\u001b[0m\u001b[0;34m,\u001b[0m \u001b[0mtensor\u001b[0m\u001b[0;34m.\u001b[0m\u001b[0mreshape\u001b[0m\u001b[0;34m(\u001b[0m\u001b[0;34m(\u001b[0m\u001b[0;36m6\u001b[0m\u001b[0;34m,\u001b[0m \u001b[0;36m2\u001b[0m\u001b[0;34m)\u001b[0m\u001b[0;34m)\u001b[0m\u001b[0;34m)\u001b[0m\u001b[0;34m\u001b[0m\u001b[0;34m\u001b[0m\u001b[0m\n\u001b[0m",
            "\u001b[0;31mRuntimeError\u001b[0m: shape '[6, 2]' is invalid for input of size 10"
          ]
        }
      ]
    },
    {
      "cell_type": "code",
      "source": [
        "\"\"\"\n",
        "Above we got the error because the size of the tensor is 10\n",
        "to convert into 6 * 2 we need tensor of 12 value .\n",
        "Note: Make sure the size need to compatable to resize the tensor\n",
        "\"\"\""
      ],
      "metadata": {
        "colab": {
          "base_uri": "https://localhost:8080/",
          "height": 35
        },
        "id": "wTOHzRYCRKBB",
        "outputId": "deb442bc-0474-4777-d369-cb1cd97192e0"
      },
      "execution_count": 29,
      "outputs": [
        {
          "output_type": "execute_result",
          "data": {
            "text/plain": [
              "'\\nAbove we got the error because the size of the tensor is 10\\nto convert into 6 * 2 we need tensor of 12 value .\\nNote: Make sure the size need to compatable to resize the tensor\\n'"
            ],
            "application/vnd.google.colaboratory.intrinsic+json": {
              "type": "string"
            }
          },
          "metadata": {},
          "execution_count": 29
        }
      ]
    },
    {
      "cell_type": "code",
      "source": [
        "# torch.view() its same like reshape\n",
        "tensor = torch.arange(12).reshape((2, 6))\n",
        "tensor, tensor.size()"
      ],
      "metadata": {
        "colab": {
          "base_uri": "https://localhost:8080/"
        },
        "id": "QDITZCneReX2",
        "outputId": "d4a1f9b6-0350-488f-ef6c-12c808937be1"
      },
      "execution_count": 30,
      "outputs": [
        {
          "output_type": "execute_result",
          "data": {
            "text/plain": [
              "(tensor([[ 0,  1,  2,  3,  4,  5],\n",
              "         [ 6,  7,  8,  9, 10, 11]]),\n",
              " torch.Size([2, 6]))"
            ]
          },
          "metadata": {},
          "execution_count": 30
        }
      ]
    },
    {
      "cell_type": "code",
      "source": [
        "tensor_view = tensor.view((6, 2))\n",
        "tensor_view"
      ],
      "metadata": {
        "colab": {
          "base_uri": "https://localhost:8080/"
        },
        "id": "EXA1E4YqRyiK",
        "outputId": "3d2afa58-751b-46c9-9ea4-a6e7679e26d8"
      },
      "execution_count": 31,
      "outputs": [
        {
          "output_type": "execute_result",
          "data": {
            "text/plain": [
              "tensor([[ 0,  1],\n",
              "        [ 2,  3],\n",
              "        [ 4,  5],\n",
              "        [ 6,  7],\n",
              "        [ 8,  9],\n",
              "        [10, 11]])"
            ]
          },
          "metadata": {},
          "execution_count": 31
        }
      ]
    },
    {
      "cell_type": "code",
      "source": [
        "print('tensor: ', tensor)\n",
        "print('tensor_view: ', tensor_view)"
      ],
      "metadata": {
        "colab": {
          "base_uri": "https://localhost:8080/"
        },
        "id": "DdNzvOnrR3NV",
        "outputId": "0baf4ddf-ebbf-4bcc-9aaa-4335239ae6b6"
      },
      "execution_count": 32,
      "outputs": [
        {
          "output_type": "stream",
          "name": "stdout",
          "text": [
            "tensor:  tensor([[ 0,  1,  2,  3,  4,  5],\n",
            "        [ 6,  7,  8,  9, 10, 11]])\n",
            "tensor_view:  tensor([[ 0,  1],\n",
            "        [ 2,  3],\n",
            "        [ 4,  5],\n",
            "        [ 6,  7],\n",
            "        [ 8,  9],\n",
            "        [10, 11]])\n"
          ]
        }
      ]
    },
    {
      "cell_type": "code",
      "source": [
        "# torch.stack(): method will concatenate the tensors togethe will new dimension every time\n",
        "# make sure the sizes of the tensor a and b need to be same\n",
        "tensor1 = torch.arange(1, 10)\n",
        "tensor2 = torch.arange(11, 20)\n",
        "print('tensor1 : ', tensor1)\n",
        "print('tensor2: ', tensor2)"
      ],
      "metadata": {
        "colab": {
          "base_uri": "https://localhost:8080/"
        },
        "id": "e8Ige3SYR9-L",
        "outputId": "f69ede53-10fc-441f-8c1c-e8df0f7d7c98"
      },
      "execution_count": 33,
      "outputs": [
        {
          "output_type": "stream",
          "name": "stdout",
          "text": [
            "tensor1 :  tensor([1, 2, 3, 4, 5, 6, 7, 8, 9])\n",
            "tensor2:  tensor([11, 12, 13, 14, 15, 16, 17, 18, 19])\n"
          ]
        }
      ]
    },
    {
      "cell_type": "code",
      "source": [
        "# concatenating the tensor1 and tensor2\n",
        "concatenate12 = torch.stack((tensor1, tensor2))\n",
        "print('concatenated 1 and 2: ', concatenate12)\n",
        "print('shape of the concatenate12: ', concatenate12.shape)"
      ],
      "metadata": {
        "colab": {
          "base_uri": "https://localhost:8080/"
        },
        "id": "jWUc8oGzUyyE",
        "outputId": "20aeee89-026f-4b4c-83c0-aa5679f1d52e"
      },
      "execution_count": 34,
      "outputs": [
        {
          "output_type": "stream",
          "name": "stdout",
          "text": [
            "concatenated 1 and 2:  tensor([[ 1,  2,  3,  4,  5,  6,  7,  8,  9],\n",
            "        [11, 12, 13, 14, 15, 16, 17, 18, 19]])\n",
            "shape of the concatenate12:  torch.Size([2, 9])\n"
          ]
        }
      ]
    },
    {
      "cell_type": "code",
      "source": [
        "print('dimension of the concatenate12: ', concatenate12.ndim)"
      ],
      "metadata": {
        "colab": {
          "base_uri": "https://localhost:8080/"
        },
        "id": "fTP50yhIUqnk",
        "outputId": "56044c16-e5cf-4576-a7b0-548de4d3f8cb"
      },
      "execution_count": 35,
      "outputs": [
        {
          "output_type": "stream",
          "name": "stdout",
          "text": [
            "dimension of the concatenate12:  2\n"
          ]
        }
      ]
    },
    {
      "cell_type": "code",
      "source": [
        "# adding one more tensor to\n",
        "tensor3 = torch.arange(21, 30)\n",
        "tensor3"
      ],
      "metadata": {
        "colab": {
          "base_uri": "https://localhost:8080/"
        },
        "id": "bz1B4E4TVVWg",
        "outputId": "40484818-ec60-455a-cd65-49e492f3ae33"
      },
      "execution_count": 36,
      "outputs": [
        {
          "output_type": "execute_result",
          "data": {
            "text/plain": [
              "tensor([21, 22, 23, 24, 25, 26, 27, 28, 29])"
            ]
          },
          "metadata": {},
          "execution_count": 36
        }
      ]
    },
    {
      "cell_type": "code",
      "source": [
        "concatenate123 = torch.stack((tensor1, tensor2, tensor3))\n",
        "print('concatenated 1 and 2: ', concatenate123)\n",
        "print('shape of the concatenate123: ', concatenate123.shape)"
      ],
      "metadata": {
        "colab": {
          "base_uri": "https://localhost:8080/"
        },
        "id": "8PdceUsZVcBP",
        "outputId": "68d95bcb-d4f4-4a2a-d0cd-5c2a10d71eea"
      },
      "execution_count": 37,
      "outputs": [
        {
          "output_type": "stream",
          "name": "stdout",
          "text": [
            "concatenated 1 and 2:  tensor([[ 1,  2,  3,  4,  5,  6,  7,  8,  9],\n",
            "        [11, 12, 13, 14, 15, 16, 17, 18, 19],\n",
            "        [21, 22, 23, 24, 25, 26, 27, 28, 29]])\n",
            "shape of the concatenate123:  torch.Size([3, 9])\n"
          ]
        }
      ]
    },
    {
      "cell_type": "code",
      "source": [
        "# we can add as many as we need\n",
        "tensor4 = tensor1.reshape(3, 3)\n",
        "tensor5 = tensor2.reshape(3, 3)\n",
        "tensor6 = tensor3.reshape(3, 3)\n",
        "print('tensor4: ', tensor4)\n",
        "print('tensor5: ', tensor5)\n",
        "print('tensor6: ', tensor6)"
      ],
      "metadata": {
        "colab": {
          "base_uri": "https://localhost:8080/"
        },
        "id": "Y4jOEzTrVgd0",
        "outputId": "1e6397f7-b970-4014-a227-2b8c1a07711c"
      },
      "execution_count": 38,
      "outputs": [
        {
          "output_type": "stream",
          "name": "stdout",
          "text": [
            "tensor4:  tensor([[1, 2, 3],\n",
            "        [4, 5, 6],\n",
            "        [7, 8, 9]])\n",
            "tensor5:  tensor([[11, 12, 13],\n",
            "        [14, 15, 16],\n",
            "        [17, 18, 19]])\n",
            "tensor6:  tensor([[21, 22, 23],\n",
            "        [24, 25, 26],\n",
            "        [27, 28, 29]])\n"
          ]
        }
      ]
    },
    {
      "cell_type": "code",
      "source": [
        "concatenate456 = torch.stack((tensor4, tensor5, tensor6))\n",
        "print('concatenated 1 and 2: ', concatenate456)\n",
        "print('shape of the concatenate456: ', concatenate456.shape)"
      ],
      "metadata": {
        "colab": {
          "base_uri": "https://localhost:8080/"
        },
        "id": "aclSz-U4V0cv",
        "outputId": "455b79ba-b071-4100-ea8d-0c8930e362e8"
      },
      "execution_count": 39,
      "outputs": [
        {
          "output_type": "stream",
          "name": "stdout",
          "text": [
            "concatenated 1 and 2:  tensor([[[ 1,  2,  3],\n",
            "         [ 4,  5,  6],\n",
            "         [ 7,  8,  9]],\n",
            "\n",
            "        [[11, 12, 13],\n",
            "         [14, 15, 16],\n",
            "         [17, 18, 19]],\n",
            "\n",
            "        [[21, 22, 23],\n",
            "         [24, 25, 26],\n",
            "         [27, 28, 29]]])\n",
            "shape of the concatenate456:  torch.Size([3, 3, 3])\n"
          ]
        }
      ]
    },
    {
      "cell_type": "code",
      "source": [
        "# torch.sqeeze() It squeezes (removes) the size 1 and returns a tensor with all other dimensions of the input tensor.\n",
        "\n",
        "tensor = torch.tensor([[1, 2, 3, 4, 5]])\n",
        "print(tensor)\n",
        "print(tensor.ndim)"
      ],
      "metadata": {
        "colab": {
          "base_uri": "https://localhost:8080/"
        },
        "id": "JtwMp_zTXTzW",
        "outputId": "cf22bfe0-c6b8-4b21-8ddf-b4215ca9975c"
      },
      "execution_count": 40,
      "outputs": [
        {
          "output_type": "stream",
          "name": "stdout",
          "text": [
            "tensor([[1, 2, 3, 4, 5]])\n",
            "2\n"
          ]
        }
      ]
    },
    {
      "cell_type": "code",
      "source": [
        "# the tensor is 2 dimensiona\n",
        "# to remove a dimension from the tensor use squeeze()\n",
        "# removed dimension\n",
        "tensor = torch.squeeze(tensor)\n",
        "tensor, tensor.ndim"
      ],
      "metadata": {
        "colab": {
          "base_uri": "https://localhost:8080/"
        },
        "id": "JzYHYvdJazLV",
        "outputId": "40b9d336-33e5-4de3-ac75-dd4039ffba65"
      },
      "execution_count": 41,
      "outputs": [
        {
          "output_type": "execute_result",
          "data": {
            "text/plain": [
              "(tensor([1, 2, 3, 4, 5]), 1)"
            ]
          },
          "metadata": {},
          "execution_count": 41
        }
      ]
    },
    {
      "cell_type": "code",
      "source": [
        "tensor = torch.squeeze(tensor)\n",
        "tensor, tensor.ndim"
      ],
      "metadata": {
        "colab": {
          "base_uri": "https://localhost:8080/"
        },
        "id": "L1vEJXBdbAHv",
        "outputId": "98fba7a5-174a-492c-bd8c-8c837020d557"
      },
      "execution_count": 42,
      "outputs": [
        {
          "output_type": "execute_result",
          "data": {
            "text/plain": [
              "(tensor([1, 2, 3, 4, 5]), 1)"
            ]
          },
          "metadata": {},
          "execution_count": 42
        }
      ]
    },
    {
      "cell_type": "code",
      "source": [
        "# torch.unsqeeze(): it add the dimension to tensor\n",
        "tensor, tensor.ndim"
      ],
      "metadata": {
        "colab": {
          "base_uri": "https://localhost:8080/"
        },
        "id": "eRmHC3sRb4UU",
        "outputId": "931deb11-3994-4412-b90b-9f544b65ffdd"
      },
      "execution_count": 43,
      "outputs": [
        {
          "output_type": "execute_result",
          "data": {
            "text/plain": [
              "(tensor([1, 2, 3, 4, 5]), 1)"
            ]
          },
          "metadata": {},
          "execution_count": 43
        }
      ]
    },
    {
      "cell_type": "code",
      "source": [
        "tensor = tensor.unsqueeze(dim=1)\n",
        "tensor, tensor.ndim"
      ],
      "metadata": {
        "colab": {
          "base_uri": "https://localhost:8080/"
        },
        "id": "LW3viA9Ub_c0",
        "outputId": "9b156b7d-2952-4ee4-f19e-dbf3ca713227"
      },
      "execution_count": 44,
      "outputs": [
        {
          "output_type": "execute_result",
          "data": {
            "text/plain": [
              "(tensor([[1],\n",
              "         [2],\n",
              "         [3],\n",
              "         [4],\n",
              "         [5]]),\n",
              " 2)"
            ]
          },
          "metadata": {},
          "execution_count": 44
        }
      ]
    },
    {
      "cell_type": "code",
      "source": [
        "tensor = tensor.unsqueeze(dim=1)\n",
        "tensor, tensor.ndim"
      ],
      "metadata": {
        "colab": {
          "base_uri": "https://localhost:8080/"
        },
        "id": "5K10SsWWcIdW",
        "outputId": "010f3c9e-fb8f-43e9-d0d2-3035f57c7846"
      },
      "execution_count": 45,
      "outputs": [
        {
          "output_type": "execute_result",
          "data": {
            "text/plain": [
              "(tensor([[[1]],\n",
              " \n",
              "         [[2]],\n",
              " \n",
              "         [[3]],\n",
              " \n",
              "         [[4]],\n",
              " \n",
              "         [[5]]]),\n",
              " 3)"
            ]
          },
          "metadata": {},
          "execution_count": 45
        }
      ]
    },
    {
      "cell_type": "markdown",
      "source": [
        "# Indexing (selecting the data from tensor)"
      ],
      "metadata": {
        "id": "hMHAvTdsrHjb"
      }
    },
    {
      "cell_type": "code",
      "source": [
        "scalar = torch.arange(1, 10)\n",
        "print(\"scalar: \", scalar)"
      ],
      "metadata": {
        "colab": {
          "base_uri": "https://localhost:8080/"
        },
        "id": "ISrJQ_VnrXwW",
        "outputId": "57e3d92e-ee77-414b-e5b2-6010c6ff2da4"
      },
      "execution_count": 46,
      "outputs": [
        {
          "output_type": "stream",
          "name": "stdout",
          "text": [
            "scalar:  tensor([1, 2, 3, 4, 5, 6, 7, 8, 9])\n"
          ]
        }
      ]
    },
    {
      "cell_type": "code",
      "source": [
        "# just like python3 we can using indexing to access the elements\n",
        "scalar[0].item()"
      ],
      "metadata": {
        "colab": {
          "base_uri": "https://localhost:8080/"
        },
        "id": "swZHAIz7rby3",
        "outputId": "d97be51b-9a7c-4c3d-f430-d3e6e1b93318"
      },
      "execution_count": 47,
      "outputs": [
        {
          "output_type": "execute_result",
          "data": {
            "text/plain": [
              "1"
            ]
          },
          "metadata": {},
          "execution_count": 47
        }
      ]
    },
    {
      "cell_type": "code",
      "source": [
        "scalar[5].item()"
      ],
      "metadata": {
        "colab": {
          "base_uri": "https://localhost:8080/"
        },
        "id": "NH5NQflSrjQm",
        "outputId": "f202410e-977d-47db-fe89-df9f12c9e593"
      },
      "execution_count": 48,
      "outputs": [
        {
          "output_type": "execute_result",
          "data": {
            "text/plain": [
              "6"
            ]
          },
          "metadata": {},
          "execution_count": 48
        }
      ]
    },
    {
      "cell_type": "code",
      "source": [
        "vector = torch.arange(1, 17).reshape((4, 4))\n",
        "vector, vector.shape, vector.ndim"
      ],
      "metadata": {
        "colab": {
          "base_uri": "https://localhost:8080/"
        },
        "id": "WAUFqrF4ruge",
        "outputId": "06ce539d-3ecf-4842-b887-baf746ba5045"
      },
      "execution_count": 49,
      "outputs": [
        {
          "output_type": "execute_result",
          "data": {
            "text/plain": [
              "(tensor([[ 1,  2,  3,  4],\n",
              "         [ 5,  6,  7,  8],\n",
              "         [ 9, 10, 11, 12],\n",
              "         [13, 14, 15, 16]]),\n",
              " torch.Size([4, 4]),\n",
              " 2)"
            ]
          },
          "metadata": {},
          "execution_count": 49
        }
      ]
    },
    {
      "cell_type": "code",
      "source": [
        "# vector is 4 * 4 metrics\n",
        "print('access the 1st row 3rd column value: ', vector[0, 2].item())\n",
        "print('access the 3rd row 2nd column value: ', vector[2, 1].item())"
      ],
      "metadata": {
        "colab": {
          "base_uri": "https://localhost:8080/"
        },
        "id": "ZtudvIXbr-sr",
        "outputId": "765fb096-801a-4969-84f1-e827f0494153"
      },
      "execution_count": 50,
      "outputs": [
        {
          "output_type": "stream",
          "name": "stdout",
          "text": [
            "access the 1st row 3rd column value:  3\n",
            "access the 3rd row 2nd column value:  10\n"
          ]
        }
      ]
    },
    {
      "cell_type": "code",
      "source": [
        "# access the all rows from 1st column\n",
        "print('all rows 1st column: ', vector[:, 0])"
      ],
      "metadata": {
        "colab": {
          "base_uri": "https://localhost:8080/"
        },
        "id": "A0MYeEOTsY5u",
        "outputId": "44888129-f202-4288-fc8b-7533e9f7e4f6"
      },
      "execution_count": 51,
      "outputs": [
        {
          "output_type": "stream",
          "name": "stdout",
          "text": [
            "all rows 1st column:  tensor([ 1,  5,  9, 13])\n"
          ]
        }
      ]
    },
    {
      "cell_type": "code",
      "source": [
        "print('all columns of last row: ', vector[-1, :])"
      ],
      "metadata": {
        "colab": {
          "base_uri": "https://localhost:8080/"
        },
        "id": "pYSQNDtJsvgD",
        "outputId": "bb7dfef6-7c74-4e44-db86-c416191511ad"
      },
      "execution_count": 52,
      "outputs": [
        {
          "output_type": "stream",
          "name": "stdout",
          "text": [
            "all columns of last row:  tensor([13, 14, 15, 16])\n"
          ]
        }
      ]
    },
    {
      "cell_type": "code",
      "source": [],
      "metadata": {
        "id": "RBX-SMEws4Zs"
      },
      "execution_count": 52,
      "outputs": []
    }
  ]
}