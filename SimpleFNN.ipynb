{
  "nbformat": 4,
  "nbformat_minor": 0,
  "metadata": {
    "colab": {
      "provenance": [],
      "gpuType": "T4",
      "authorship_tag": "ABX9TyMZ7asRzn0ue4ZRrRqbs3Vg"
    },
    "kernelspec": {
      "name": "python3",
      "display_name": "Python 3"
    },
    "language_info": {
      "name": "python"
    },
    "accelerator": "GPU"
  },
  "cells": [
    {
      "cell_type": "code",
      "source": [
        "import torch\n",
        "from torch import nn\n",
        "from torchvision.datasets import MNIST\n",
        "from torch.optim import SGD\n",
        "from torch.utils.data import DataLoader\n",
        "from torchvision.transforms import transforms"
      ],
      "metadata": {
        "id": "XL9TL_R4xrhB"
      },
      "execution_count": 21,
      "outputs": []
    },
    {
      "cell_type": "code",
      "source": [
        "train_dataset = MNIST(train=True, download=True, root='/data/', transform=transforms.ToTensor())\n",
        "test_dataset = MNIST(download=True, root='/data/', transform=transforms.ToTensor())"
      ],
      "metadata": {
        "id": "eccWH-YjzFW7"
      },
      "execution_count": 22,
      "outputs": []
    },
    {
      "cell_type": "code",
      "source": [
        "train_loader = DataLoader(dataset=train_dataset, batch_size=4, shuffle=True)\n",
        "test_loader = DataLoader(dataset=test_dataset, batch_size=4, shuffle=True)"
      ],
      "metadata": {
        "id": "aC9suxH0zY5X"
      },
      "execution_count": 23,
      "outputs": []
    },
    {
      "cell_type": "code",
      "source": [
        "class SimpleFNN(nn.Module):\n",
        "  \"\"\"\n",
        "  A simple Feed forward Neural Network contians\n",
        "  the 2 Linear Layers followed by ReLu\n",
        "  1 output layer\n",
        "  \"\"\"\n",
        "  def __init__(self, input_features, output_features):\n",
        "    super(SimpleFNN, self).__init__()\n",
        "    self.layer1 = nn.Linear(input_features, 256)\n",
        "    self.layer2 = nn.ReLU()\n",
        "    self.layer3 = nn.Linear(256, 512)\n",
        "    self.layer4 = nn.ReLU()\n",
        "    self.layer5 = nn.Linear(512, output_features)\n",
        "\n",
        "  def forward(self, x):\n",
        "    x = self.layer1(x)\n",
        "    x = self.layer2(x)\n",
        "    x = self.layer3(x)\n",
        "    x = self.layer4(x)\n",
        "    x = self.layer5(x)\n",
        "    return x\n",
        "\n",
        "epochs = 10 # how many epochs to train\n",
        "learning_rate = 0.001\n",
        "\n",
        "# to run the model on the GPU\n",
        "device = 'cuda'\n",
        "model = SimpleFNN(784, 10).to(device)\n",
        "\n",
        "loss = nn.CrossEntropyLoss() # loss function\n",
        "optimizers = SGD(model.parameters(), learning_rate) # optimizer\n",
        "\n",
        "for epoch in range(epochs):\n",
        "  for idx, (data, labels) in enumerate(train_loader):\n",
        "    data = data.to(device)\n",
        "    data = data.reshape(data.size(0), -1)\n",
        "    labels = labels.to(device)\n",
        "    y_hat = model.forward(data)\n",
        "    l = loss(y_hat, labels)\n",
        "\n",
        "    optimizers.zero_grad()\n",
        "    l.backward()\n",
        "    optimizers.step()\n",
        "  print(f\"Epoch {epoch}: {epochs}\")"
      ],
      "metadata": {
        "colab": {
          "base_uri": "https://localhost:8080/"
        },
        "id": "Rm_N1CF3yDni",
        "outputId": "d7aacce4-4758-4a94-d157-2c10ab8a0e29"
      },
      "execution_count": 32,
      "outputs": [
        {
          "output_type": "stream",
          "name": "stdout",
          "text": [
            "Epoch 0: 5\n",
            "Epoch 1: 5\n",
            "Epoch 2: 5\n",
            "Epoch 3: 5\n",
            "Epoch 4: 5\n"
          ]
        }
      ]
    },
    {
      "cell_type": "code",
      "source": [
        "num_samples = 0\n",
        "num_correct = 0\n",
        "\n",
        "model.eval()\n",
        "with torch.no_grad():\n",
        "  for data, labels in test_loader:\n",
        "    data = data.to('cuda')\n",
        "    labels = labels.to('cuda')\n",
        "    data = data.reshape(data.size(0), -1)\n",
        "    output = model(data)\n",
        "    _, prediction = output.max(1)\n",
        "    num_correct += (prediction == labels).sum()\n",
        "    num_samples += prediction.size(0)\n",
        "\n",
        "print(f\"The model accuracy on test data: {num_correct/num_samples}\")\n",
        ""
      ],
      "metadata": {
        "colab": {
          "base_uri": "https://localhost:8080/"
        },
        "id": "_6Kr1uif4knl",
        "outputId": "07e86279-8094-4df6-aead-930226f95c72"
      },
      "execution_count": 33,
      "outputs": [
        {
          "output_type": "stream",
          "name": "stdout",
          "text": [
            "The model accuracy on test data: 0.9308666586875916\n"
          ]
        }
      ]
    },
    {
      "cell_type": "code",
      "source": [],
      "metadata": {
        "id": "z4OduYZx6Sm1"
      },
      "execution_count": null,
      "outputs": []
    }
  ]
}